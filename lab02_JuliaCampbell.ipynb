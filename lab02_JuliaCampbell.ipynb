{
 "cells": [
  {
   "cell_type": "markdown",
   "metadata": {},
   "source": [
    "# <font color='red'>Lab 02 - Standard Error</font>\n",
    "\n",
    "### EARTH 468: Data Analysis & Model Estimation\n",
    "\n",
    "#### Lab developed by E.A. Hetland\n",
    "\n",
    "#### Due by the beginning of the lab period for the week of September 28th (2 weeks).\n",
    "\n",
    "**For full credit:** \n",
    "Be sure to include your name with your notebook either as a markdown cell or in the file name. \n",
    "\n",
    "Write any necessary code in code cells below the description of each question. Write any discussion answers in markdown cells below the code cells, not as comments in your code. Be explicit about what you are answering and write in complete sentences. \n",
    "\n",
    "If you are asked to include a plot, make sure to label the axes and include a descriptive title.\n",
    "\n",
    "To turn in this assignment, in the Jupyter toolbar select File/Download as/html or pdf. Make sure that all of your outputs are clear. Upload the downloaded file to the proper assignment submission page on Canvas. Please do not turn in a .ipynb file.\n",
    "\n",
    "**Objective:** Explore the concept of standard error through artificial experiments in Python.\n",
    "\n",
    "**Python Objective:** Gain familiarity with generating random numbers, writing 'for' loops, and some new plotting techniques.\n",
    "\n",
    "**Note on Lab Topic:** We will use the Poisson probability mass function in this lab (alternatively the Poisson\n",
    "probability density function, but we use “mass” just to signify that the random variate is discrete). The Poisson PMF is described in the course reader in section 3:7.2."
   ]
  },
  {
   "cell_type": "code",
   "execution_count": 1,
   "metadata": {
    "scrolled": true
   },
   "outputs": [
    {
     "name": "stdout",
     "output_type": "stream",
     "text": [
      "[1 2 3 4 5 6 7 8 9] [0 1 2 3 4 5 6 7 8 9]\n"
     ]
    }
   ],
   "source": [
    "import numpy as np\n",
    "number_longway = np.array([0,1,2,3,4,5,6,7,8,9])\n",
    "numbers = np.arange(0,10,1) # numbers 0 to 10 (not including 10), stepping by 1\n",
    "print(number_longway,numbers)"
   ]
  },
  {
   "cell_type": "code",
   "execution_count": 2,
   "metadata": {
    "scrolled": false
   },
   "outputs": [
    {
     "name": "stdout",
     "output_type": "stream",
     "text": [
      "0\n",
      "1\n",
      "2\n",
      "3\n",
      "4\n",
      "5\n",
      "6\n",
      "7\n",
      "8\n",
      "9\n"
     ]
    }
   ],
   "source": [
    "for i in numbers:\n",
    "    print(i)"
   ]
  },
  {
   "cell_type": "code",
   "execution_count": 3,
   "metadata": {
    "scrolled": true
   },
   "outputs": [
    {
     "name": "stdout",
     "output_type": "stream",
     "text": [
      "0\n",
      "1\n",
      "4\n",
      "9\n",
      "16\n",
      "25\n",
      "36\n",
      "49\n",
      "64\n",
      "81\n"
     ]
    }
   ],
   "source": [
    "for i in numbers:\n",
    "    print(i**2)"
   ]
  },
  {
   "cell_type": "code",
   "execution_count": 4,
   "metadata": {},
   "outputs": [
    {
     "name": "stdout",
     "output_type": "stream",
     "text": [
      "cat\n",
      "dog\n",
      "horse\n"
     ]
    }
   ],
   "source": [
    "words = ['cat','dog','horse']\n",
    "for i in words:\n",
    "    print(i)"
   ]
  },
  {
   "cell_type": "code",
   "execution_count": 5,
   "metadata": {
    "scrolled": false
   },
   "outputs": [
    {
     "name": "stdout",
     "output_type": "stream",
     "text": [
      "hello\n",
      "hello\n",
      "hello\n"
     ]
    }
   ],
   "source": [
    "for i in words:\n",
    "    print('hello') # will print hello same number of times as words in our list"
   ]
  },
  {
   "cell_type": "markdown",
   "metadata": {},
   "source": [
    "# <font color='orange'>Excercise - 40 pts</font>\n",
    "\n",
    "Scientists from the University of Michigan Yeti Activity Center (UM-YAC) are preparing to travel to the Sakteng\n",
    "Yeti reserve located in the Kingdom of Bhutan, in order to collect a tissue sample from a Yeti. (We will deal\n",
    "with catching the Yeti in later labs.)\n",
    "\n",
    "One of the primary questions that the UM-YAC PI is interested in, is how often Yeti skin cells divide per hour.\n",
    "Human skin cells divide roughly every 0.5–1.5 hours, and there is good reason to believe that cell division in Yeti\n",
    "skin is an order of magnitude slower. Indeed, the UM-YAC PI has conducted ground breaking theoretical research\n",
    "on anatomy and physiology of cryptids. The UM-YAC PI has concluded that Yeti skin cells divide on average 3.4\n",
    "times per day and that cell division is a Poisson process, i.e., cell division follows a Poisson probability mass\n",
    "function (PMF). If the slow division of Yeti skin cells is confirmed, there are potential applications to slowing cell\n",
    "division in human skin. This expedition is being funded by the Council for Research and Application of Plastic\n",
    "Surgery located in Palm Springs, CA.\n",
    "\n",
    "The UM-YAC PI has assigned to you to conduct a preliminary study to assess the success of the upcoming\n",
    "expedition. Specifically, the UM-YAC PI wants you to investigate how accurate the result will be from 200 viable\n",
    "skin cells, compared to the theoretical expectation of 3.4 divisions per day."
   ]
  },
  {
   "cell_type": "markdown",
   "metadata": {},
   "source": [
    "## <font color='red'>Import Libraries:</font>"
   ]
  },
  {
   "cell_type": "code",
   "execution_count": 10,
   "metadata": {},
   "outputs": [],
   "source": [
    "import numpy as np\n",
    "import matplotlib.pyplot as plt\n",
    "import scipy.special as sp"
   ]
  },
  {
   "cell_type": "markdown",
   "metadata": {},
   "source": [
    "## <font color='red'>a) 4 pts</font>\n",
    "\n",
    "The Poisson PMF is\n",
    "\n",
    "<font size='3'>$f(k)=\\left(\\frac{e^{-\\lambda}}{k!}\\right)\\lambda^k$</font>\n",
    "\n",
    "where $k$ is the random variate, and $\\lambda$ is the expectation, which is to say $E(k)=\\lambda$. Write a Python function to solve the Poisson PMF for any $k$ and any $\\lambda$ (*i.e.* $k$ and $\\lambda$ will be the parameters for the function you will write). Use your function of the Poisson PMF over an appropriate range of $k$ values for $\\lambda$ = 0.5, 2.5, and 10. Plot all results on one plot with a legend; include both the exact points and a line connecting them on the graph, using the following code as an example:\n",
    "\n",
    "```python\n",
    "ax.plot(ks,poisson_values,label='descriptive label here',marker='o')\n",
    "```\n",
    "Don't forget you need to set up your figure and axes objects before you can plot!"
   ]
  },
  {
   "cell_type": "code",
   "execution_count": 11,
   "metadata": {},
   "outputs": [],
   "source": [
    "def poisson_pmf(k,lamda):\n",
    "    first_part = np.exp(-lamda)/(sp.factorial(k))\n",
    "    second_part = lamda**k\n",
    "    output = first_part*second_part\n",
    "    return output\n",
    "\n",
    "ks = np.arange(0,20)\n",
    "\n",
    "p_pmf_half = poisson_pmf(ks,0.5)\n",
    "p_pmf_twohalf = poisson_pmf(ks,2.5)\n",
    "p_pmf_ten = poisson_pmf(ks,10)\n"
   ]
  },
  {
   "cell_type": "code",
   "execution_count": 12,
   "metadata": {},
   "outputs": [
    {
     "data": {
      "image/png": "[encoded data removed]",
      "text/plain": [
       "<Figure size 576x576 with 1 Axes>"
      ]
     },
     "metadata": {
      "needs_background": "light"
     },
     "output_type": "display_data"
    }
   ],
   "source": [
    "fig = plt.figure(figsize=[8,8])\n",
    "ax = fig.add_subplot(111)\n",
    "\n",
    "ax.plot(ks,p_pmf_half,label='lambda=0.5',marker='o',color='green')\n",
    "ax.plot(ks,p_pmf_twohalf,label='lambda=2.5',marker='o',color='blue')\n",
    "ax.plot(ks,p_pmf_ten,label='lambda=10',marker='o',color='purple')\n",
    "\n",
    "ax.set_xlabel('k = Number of True Outcomes',size=10)\n",
    "ax.set_ylabel('Probability',size=10)\n",
    "ax.set_title('Poisson PMFs for Varying Lambdas',size=15)\n",
    "\n",
    "plt.legend()\n",
    "plt.show()"
   ]
  },
  {
   "cell_type": "markdown",
   "metadata": {},
   "source": [
    "## <font color='red'>b) 4 pts</font>\n",
    "\n",
    "Generate 200 random numbers using **NumPy**’s Poisson random number generator function *np.random.poisson* and the theoretical expectation of 3.4. Consider that each of the random numbers correspond to the number of observed divisions per day of one cell.\n",
    "\n",
    "Use **Matplotlib** to produce a histogram of the distribution of random numbers you just created."
   ]
  },
  {
   "cell_type": "code",
   "execution_count": 16,
   "metadata": {},
   "outputs": [
    {
     "data": {
      "text/plain": [
       "Text(0.5, 1.0, 'poisson(lambda=3.4)')"
      ]
     },
     "execution_count": 16,
     "metadata": {},
     "output_type": "execute_result"
    },
    {
     "data": {
      "image/png": "[encoded data removed]",
      "text/plain": [
       "<Figure size 288x288 with 1 Axes>"
      ]
     },
     "metadata": {
      "needs_background": "light"
     },
     "output_type": "display_data"
    }
   ],
   "source": [
    "#?np.random.poisson\n",
    "obs = np.random.poisson(3.4,200)\n",
    "\n",
    "fig = plt.figure(figsize=[4,4])\n",
    "ax = fig.add_subplot(111)\n",
    "\n",
    "ax.hist(obs)\n",
    "ax.set_xlabel('cell divisions per day')\n",
    "ax.set_ylabel('counts')\n",
    "ax.set_title('poisson(lambda=3.4)')"
   ]
  },
  {
   "cell_type": "markdown",
   "metadata": {},
   "source": [
    "## <font color='red'>c) 6 pts</font>\n",
    "\n",
    "Calculate the mean, sample standard deviation, and standard error of the sample distribution you computed in part (b). Compare to the expected cell divisions per day estimated by the UM-YAC PI. To calculate the standard error, use the *sem* function imported as below (you will actually have to copy this line of code into your coding cell, because here it is just an example):\n",
    "\n",
    "```python\n",
    "from scipy.stats import sem\n",
    "```"
   ]
  },
  {
   "cell_type": "code",
   "execution_count": 17,
   "metadata": {},
   "outputs": [],
   "source": [
    "from scipy.stats import sem"
   ]
  },
  {
   "cell_type": "code",
   "execution_count": 21,
   "metadata": {},
   "outputs": [
    {
     "name": "stdout",
     "output_type": "stream",
     "text": [
      "The mean is  3.43\n",
      "The standard deviation is  1.7551360381927135\n",
      "The standard error is  0.1241068594510959\n"
     ]
    }
   ],
   "source": [
    "# ?np.var for homework question\n",
    "\n",
    "print('The mean is ',np.mean(obs))\n",
    "print('The standard deviation is ',np.std(obs,ddof=1)) # unbiased sample standard deviation\n",
    "print('The standard error is ',sem(obs,ddof=1)) # unbiased standard error of the mean"
   ]
  },
  {
   "cell_type": "markdown",
   "metadata": {},
   "source": [
    "The expected cell divisions per day estimated by the UM-YAC PI is 3.4. Given the mean shown above (and the standard deviation and standard error), this is a very close estimate."
   ]
  },
  {
   "cell_type": "markdown",
   "metadata": {},
   "source": [
    "## <font color='red'>d) 6 pts</font>\n",
    "\n",
    "Repeat the experiment 6 times (i.e., repeat parts (b) and\n",
    "(c) 6 times). We will assume each of the 6 iterations corresponds to 6 hypothetical collections of 200 cells from a Yeti, which we will refer to as a “realization” for brevity. Use a python loop to calculate the mean, standard error, and standard deviation of each dataset (you will need the standard deviation for part (e)). Graphically compare the outcomes of the 6 realizations. Do this by plotting the mean of each dataset, plus or minus the standard error, using the **Matplotlib** function *errorbar*. Also plot the theoretical expected result of 3.4 on the same plot using a different color horizontal line. Make the y-axis go from 1 to 5.\n",
    "\n",
    "The final plot should look something like this:\n",
    "\n",
    "<img src=\"ComparingStandardErrors.png\">"
   ]
  },
  {
   "cell_type": "code",
   "execution_count": 25,
   "metadata": {},
   "outputs": [
    {
     "name": "stdout",
     "output_type": "stream",
     "text": [
      "[3.2, 3.5, 3.46, 3.215, 3.41, 3.41]\n",
      "[1.6071448512390916, 1.8755233775398517, 1.986992879584018, 1.9175924499277994, 1.8679793183192213, 1.8973401111786565]\n",
      "[0.11364230226602068, 0.13261952985323264, 0.1405016139323244, 0.1355942624896072, 0.13208608430997457, 0.1341622058831666]\n"
     ]
    }
   ],
   "source": [
    "means = [] # empty list\n",
    "std_devs = []\n",
    "std_errors = []\n",
    "\n",
    "for i in np.arange(0,6):\n",
    "    obs = np.random.poisson(3.4,200)\n",
    "    mean = np.mean(obs)\n",
    "    std_dev = np.std(obs,ddof=1)\n",
    "    std_error = sem(obs,ddof=1)\n",
    "    means.append(mean)\n",
    "    std_devs.append(std_dev)\n",
    "    std_errors.append(std_error)\n",
    "    \n",
    "print(means) \n",
    "print(std_devs)\n",
    "print(std_errors)"
   ]
  },
  {
   "cell_type": "code",
   "execution_count": 27,
   "metadata": {},
   "outputs": [
    {
     "data": {
      "text/plain": [
       "Text(0, 0.5, 'Observation')"
      ]
     },
     "execution_count": 27,
     "metadata": {},
     "output_type": "execute_result"
    },
    {
     "data": {
      "image/png": "[encoded data removed]",
      "text/plain": [
       "<Figure size 720x432 with 1 Axes>"
      ]
     },
     "metadata": {
      "needs_background": "light"
     },
     "output_type": "display_data"
    }
   ],
   "source": [
    "fig = plt.figure(figsize=[10,6])\n",
    "ax = fig.add_subplot(111)\n",
    "\n",
    "x = np.arange(1,7) # for the 6 experiments\n",
    "ax.errorbar(x,means,yerr=std_errors,linestyle='None',marker='o')\n",
    "\n",
    "ax.hlines(3.4,0,7,color='red',linewidth=4,label='Expectation')\n",
    "plt.legend()\n",
    "\n",
    "ax.set_xlim(0,7)\n",
    "ax.set_ylim(1,5)\n",
    "\n",
    "ax.set_title('Standard Error',size=25)\n",
    "ax.set_xlabel('Experiment')\n",
    "ax.set_ylabel('Observation')"
   ]
  },
  {
   "cell_type": "markdown",
   "metadata": {},
   "source": [
    "## <font color='red'>e) 6 pts</font>\n",
    "\n",
    "Compare the mean and sample standard deviations of the 6 realizations in part (d) to the theoretical expectation of\n",
    "3.4 divisions per day. In other words, make a similar plot to as in part (d) but use the sample standard deviations\n",
    "for the error bars instead of the standard error. Based on this plot and in part (d), do you think that representing error of the mean using the sample standard deviation or the standard error is more robust?"
   ]
  },
  {
   "cell_type": "code",
   "execution_count": 32,
   "metadata": {
    "scrolled": true
   },
   "outputs": [
    {
     "data": {
      "text/plain": [
       "Text(0, 0.5, 'Observation')"
      ]
     },
     "execution_count": 32,
     "metadata": {},
     "output_type": "execute_result"
    },
    {
     "data": {
      "image/png": "[encoded data removed]",
      "text/plain": [
       "<Figure size 576x288 with 1 Axes>"
      ]
     },
     "metadata": {
      "needs_background": "light"
     },
     "output_type": "display_data"
    }
   ],
   "source": [
    "fig = plt.figure(figsize=[8,4])\n",
    "ax = fig.add_subplot(111)\n",
    "\n",
    "x = np.arange(1,7) # for the 6 experiments\n",
    "ax.errorbar(x,means,yerr=std_devs,linestyle='None',marker='o')\n",
    "\n",
    "ax.hlines(3.4,0,7,color='red',linewidth=4,label='Expectation')\n",
    "plt.legend()\n",
    "\n",
    "ax.set_xlim(0,7)\n",
    "ax.set_ylim(0,7)\n",
    "\n",
    "ax.set_title('Standard Deviation',size=25)\n",
    "ax.set_xlabel('Experiment')\n",
    "ax.set_ylabel('Observation')"
   ]
  },
  {
   "cell_type": "markdown",
   "metadata": {},
   "source": [
    "Based on this plot and in part (d), I think that representing the error of the mean using the sample standard error is more robust (appropriate) because the error bars are telling us the uncertainty of the mean. The standard deviation tells us about the spread of the data points distribution in the mean, while standard error tells us how well we truly know the mean. The standard deviation error bars are also way too large."
   ]
  },
  {
   "cell_type": "markdown",
   "metadata": {},
   "source": [
    "## <font color='red'>f) 8 pts</font>\n",
    "\n",
    "Test the sensitivity of the mean to the particular set of random numbers by repeating the experiment a much larger number of times. Compute the mean and standard error for each realization, and plot a histogram of the mean outcome of number of divisions per day of the 200 cells. Consider 100, 1000, and 10000 realizations.\n",
    "\n",
    "As you increase the number of realizations, remark on the features of the histogram for large number of realization.\n",
    "You might want to run the script a few times for each set of realizations. **Turn in the histogram of 10000 realizations.**"
   ]
  },
  {
   "cell_type": "code",
   "execution_count": 55,
   "metadata": {
    "scrolled": true
   },
   "outputs": [
    {
     "data": {
      "text/plain": [
       "Text(0.5, 1.0, 'Mean Outcome of Number of Divisions per Day of the 200 Cells')"
      ]
     },
     "execution_count": 55,
     "metadata": {},
     "output_type": "execute_result"
    },
    {
     "data": {
      "image/png": "[encoded data removed]",
      "text/plain": [
       "<Figure size 576x288 with 1 Axes>"
      ]
     },
     "metadata": {
      "needs_background": "light"
     },
     "output_type": "display_data"
    }
   ],
   "source": [
    "means = [] \n",
    "std_devs = []\n",
    "std_errors = []\n",
    "\n",
    "for i in np.arange(0,10000):\n",
    "    obs = np.random.poisson(3.4,200)\n",
    "    mean = np.mean(obs)\n",
    "    std_dev = np.std(obs,ddof=1)\n",
    "    std_error = sem(obs,ddof=1)\n",
    "    means.append(mean)\n",
    "    std_devs.append(std_dev)\n",
    "    std_errors.append(std_error)\n",
    "\n",
    "fig = plt.figure(figsize=[8,4])\n",
    "ax = fig.add_subplot(111)\n",
    "\n",
    "ax.hist(means,bins=100)\n",
    "ax.set_xlabel('mean cell divisions per day')\n",
    "ax.set_ylabel('frequency')\n",
    "ax.set_title('Mean Outcome of Number of Divisions per Day of the 200 Cells')"
   ]
  },
  {
   "cell_type": "markdown",
   "metadata": {},
   "source": [
    "Histogram becomes much more refined with more and more realizations."
   ]
  },
  {
   "cell_type": "markdown",
   "metadata": {},
   "source": [
    "## <font color='red'>g) 8 pts</font>\n",
    "\n",
    "Compare the mean and standard deviation of result of the 10000 realizations in part (f) to the mean and standard\n",
    "error found in part (c). In light of the comparison, remark on what the standard error found in part (c) represents."
   ]
  },
  {
   "cell_type": "code",
   "execution_count": 65,
   "metadata": {
    "scrolled": true
   },
   "outputs": [
    {
     "data": {
      "text/plain": [
       "(3.4007730000000005, 0.12985753258427826)"
      ]
     },
     "execution_count": 65,
     "metadata": {},
     "output_type": "execute_result"
    }
   ],
   "source": [
    "np.mean(means),np.std(means,ddof=1) # mean and standard deviation of result of the 10000 realizations"
   ]
  },
  {
   "cell_type": "markdown",
   "metadata": {},
   "source": [
    "The mean and standard deviation of the result of the 10000 realizations is above. The mean and standard error from part (c) is 3.43 and 0.1241068594510959, respectively. In light of this comparison, the standard error in part (c) actually represents the standard deviation of the 10000 realizations. Standard error is the uncertainty on the mean and standard deviation is how far your data points are from the mean. So, the standard deviation of the distribution of means will be the same as the original standard error. "
   ]
  },
  {
   "cell_type": "code",
   "execution_count": null,
   "metadata": {},
   "outputs": [],
   "source": []
  }
 ],
 "metadata": {
  "anaconda-cloud": {},
  "kernelspec": {
   "display_name": "Python 3 (ipykernel)",
   "language": "python",
   "name": "python3"
  },
  "language_info": {
   "codemirror_mode": {
    "name": "ipython",
    "version": 3
   },
   "file_extension": ".py",
   "mimetype": "text/x-python",
   "name": "python",
   "nbconvert_exporter": "python",
   "pygments_lexer": "ipython3",
   "version": "3.8.11"
  }
 },
 "nbformat": 4,
 "nbformat_minor": 1
}
