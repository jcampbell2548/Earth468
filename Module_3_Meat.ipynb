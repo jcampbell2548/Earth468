{
 "cells": [
  {
   "cell_type": "code",
   "execution_count": 1,
   "id": "f182a215",
   "metadata": {},
   "outputs": [],
   "source": [
    "import numpy as np\n",
    "import matplotlib.pyplot as plt\n",
    "import pandas as pd\n",
    "from scipy.stats import pearsonr"
   ]
  },
  {
   "cell_type": "code",
   "execution_count": 2,
   "id": "1715c054",
   "metadata": {},
   "outputs": [
    {
     "data": {
      "text/plain": [
       "0.8732106589341758"
      ]
     },
     "execution_count": 2,
     "metadata": {},
     "output_type": "execute_result"
    }
   ],
   "source": [
    "japan_data = pd.read_csv('Japan_GDP_Meat.csv')\n",
    "japan_data\n",
    "japan_array = np.array(japan_data)\n",
    "cc_japan, z = pearsonr(japan_array[:,1],japan_array[:,2])\n",
    "cc_japan # correlation coefficient for per capita GDP and meat consumption"
   ]
  },
  {
   "cell_type": "markdown",
   "id": "eb19b901",
   "metadata": {},
   "source": [
    "What does this correlation coefficient tell you about the relationship between GDP and meat consumption in Japan?\n",
    "\n",
    "This correlation coefficient of 0.87 tells us that the relationship between per capita GDP and meat consumption is positive and pretty strong, so areas with a higher GDP are likely to consume more meat."
   ]
  },
  {
   "cell_type": "code",
   "execution_count": 3,
   "id": "16bf7923",
   "metadata": {},
   "outputs": [
    {
     "data": {
      "text/plain": [
       "Text(0.5, 1.0, 'Japan')"
      ]
     },
     "execution_count": 3,
     "metadata": {},
     "output_type": "execute_result"
    },
    {
     "data": {
      "image/png": "[encoded data removed]",
      "text/plain": [
       "<Figure size 576x1152 with 1 Axes>"
      ]
     },
     "metadata": {
      "needs_background": "light"
     },
     "output_type": "display_data"
    }
   ],
   "source": [
    "fig = plt.figure(figsize=[8,16])\n",
    "ax1 = fig.add_subplot(211)\n",
    "ax1.scatter(japan_array[:,1],japan_array[:,2])\n",
    "ax1.set_xlabel('Per Capita GDP (2015 US$)')\n",
    "ax1.set_ylabel('Meat Consumption (kg per capita)')\n",
    "ax1.set_title('Japan')"
   ]
  },
  {
   "cell_type": "markdown",
   "id": "c893755e",
   "metadata": {},
   "source": [
    "Qualitatively assess the correlation determined in part (a) from this plot.\n",
    "\n",
    "The correlation determined in part (a) seems pretty accurate given the scatter plot. You can clearly see a positive trend that is pretty strong."
   ]
  },
  {
   "cell_type": "code",
   "execution_count": 4,
   "id": "fad4d19b",
   "metadata": {},
   "outputs": [
    {
     "data": {
      "text/plain": [
       "-0.6836698524336361"
      ]
     },
     "execution_count": 4,
     "metadata": {},
     "output_type": "execute_result"
    }
   ],
   "source": [
    "argentina_data = pd.read_csv('Argentina_GDP_Meat.csv')\n",
    "argentina_data\n",
    "argentina_array = np.array(argentina_data)\n",
    "cc_argentina, z = pearsonr(argentina_array[:,1],argentina_array[:,2])\n",
    "cc_argentina # correlation coefficient for per capita GDP and meat consumption"
   ]
  },
  {
   "cell_type": "code",
   "execution_count": 5,
   "id": "ac41b290",
   "metadata": {},
   "outputs": [
    {
     "data": {
      "text/plain": [
       "-0.8805733211616931"
      ]
     },
     "execution_count": 5,
     "metadata": {},
     "output_type": "execute_result"
    }
   ],
   "source": [
    "USA_data = pd.read_csv('USA_GDP_Meat.csv')\n",
    "USA_data\n",
    "USA_array = np.array(USA_data)\n",
    "cc_USA, z = pearsonr(USA_array[:,1],USA_array[:,2])\n",
    "cc_USA # correlation coefficient for per capita GDP and meat consumption"
   ]
  },
  {
   "cell_type": "markdown",
   "id": "3e37e880",
   "metadata": {},
   "source": [
    "What do these correlation coefficients indicate about the relationship between GDP and meat consumption?\n",
    "\n",
    "The Argentina correlation coefficient is about -0.68 which is a negative trend that is of moderate strength, this may mean that areas of higher GDP don't consume as much meat. The USA correlation coefficient is about -0.88 which is a negative trend that is strong. This may mean that areas of higher GDP don't consume as much meat in the USA either.\n",
    "\n",
    "Based on these three countries, is there a robust correlation between GDP and meat consumption?\n",
    "\n",
    "There is no robust correlation between GDP and meat consumption given these countries. One had a positive trend, two had a negative trend, and they all had varying strengths. I believe the relationship between these two factors likely depends on the culture of the area."
   ]
  },
  {
   "cell_type": "code",
   "execution_count": null,
   "id": "2aa4de71",
   "metadata": {},
   "outputs": [],
   "source": []
  }
 ],
 "metadata": {
  "kernelspec": {
   "display_name": "Python 3 (ipykernel)",
   "language": "python",
   "name": "python3"
  },
  "language_info": {
   "codemirror_mode": {
    "name": "ipython",
    "version": 3
   },
   "file_extension": ".py",
   "mimetype": "text/x-python",
   "name": "python",
   "nbconvert_exporter": "python",
   "pygments_lexer": "ipython3",
   "version": "3.8.11"
  }
 },
 "nbformat": 4,
 "nbformat_minor": 5
}
