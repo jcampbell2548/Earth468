{
 "cells": [
  {
   "cell_type": "code",
   "execution_count": 2,
   "id": "4d3105cf",
   "metadata": {},
   "outputs": [],
   "source": [
    "import numpy as np\n",
    "import matplotlib.pyplot as plt\n",
    "import pandas as pd"
   ]
  },
  {
   "cell_type": "code",
   "execution_count": 3,
   "id": "43ae8c9e",
   "metadata": {},
   "outputs": [
    {
     "data": {
      "text/html": [
       "<div>\n",
       "<style scoped>\n",
       "    .dataframe tbody tr th:only-of-type {\n",
       "        vertical-align: middle;\n",
       "    }\n",
       "\n",
       "    .dataframe tbody tr th {\n",
       "        vertical-align: top;\n",
       "    }\n",
       "\n",
       "    .dataframe thead th {\n",
       "        text-align: right;\n",
       "    }\n",
       "</style>\n",
       "<table border=\"1\" class=\"dataframe\">\n",
       "  <thead>\n",
       "    <tr style=\"text-align: right;\">\n",
       "      <th></th>\n",
       "      <th>BMI</th>\n",
       "      <th>Michigan</th>\n",
       "      <th>Iowa</th>\n",
       "      <th>MichiganSt</th>\n",
       "      <th>Minnesota</th>\n",
       "      <th>Nebraska</th>\n",
       "      <th>Northwestern</th>\n",
       "      <th>NotreDame</th>\n",
       "      <th>OhioSt</th>\n",
       "      <th>PennSt</th>\n",
       "    </tr>\n",
       "  </thead>\n",
       "  <tbody>\n",
       "    <tr>\n",
       "      <th>0</th>\n",
       "      <td>20.5</td>\n",
       "      <td>0</td>\n",
       "      <td>0</td>\n",
       "      <td>0</td>\n",
       "      <td>0</td>\n",
       "      <td>0</td>\n",
       "      <td>0</td>\n",
       "      <td>0</td>\n",
       "      <td>0</td>\n",
       "      <td>0</td>\n",
       "    </tr>\n",
       "    <tr>\n",
       "      <th>1</th>\n",
       "      <td>21.5</td>\n",
       "      <td>2</td>\n",
       "      <td>0</td>\n",
       "      <td>0</td>\n",
       "      <td>1</td>\n",
       "      <td>0</td>\n",
       "      <td>0</td>\n",
       "      <td>0</td>\n",
       "      <td>0</td>\n",
       "      <td>2</td>\n",
       "    </tr>\n",
       "    <tr>\n",
       "      <th>2</th>\n",
       "      <td>22.5</td>\n",
       "      <td>2</td>\n",
       "      <td>0</td>\n",
       "      <td>0</td>\n",
       "      <td>1</td>\n",
       "      <td>3</td>\n",
       "      <td>3</td>\n",
       "      <td>1</td>\n",
       "      <td>0</td>\n",
       "      <td>2</td>\n",
       "    </tr>\n",
       "    <tr>\n",
       "      <th>3</th>\n",
       "      <td>23.5</td>\n",
       "      <td>1</td>\n",
       "      <td>3</td>\n",
       "      <td>6</td>\n",
       "      <td>8</td>\n",
       "      <td>1</td>\n",
       "      <td>5</td>\n",
       "      <td>2</td>\n",
       "      <td>1</td>\n",
       "      <td>3</td>\n",
       "    </tr>\n",
       "    <tr>\n",
       "      <th>4</th>\n",
       "      <td>24.5</td>\n",
       "      <td>9</td>\n",
       "      <td>6</td>\n",
       "      <td>9</td>\n",
       "      <td>5</td>\n",
       "      <td>12</td>\n",
       "      <td>12</td>\n",
       "      <td>5</td>\n",
       "      <td>0</td>\n",
       "      <td>6</td>\n",
       "    </tr>\n",
       "    <tr>\n",
       "      <th>5</th>\n",
       "      <td>25.5</td>\n",
       "      <td>9</td>\n",
       "      <td>15</td>\n",
       "      <td>8</td>\n",
       "      <td>12</td>\n",
       "      <td>13</td>\n",
       "      <td>19</td>\n",
       "      <td>9</td>\n",
       "      <td>15</td>\n",
       "      <td>10</td>\n",
       "    </tr>\n",
       "    <tr>\n",
       "      <th>6</th>\n",
       "      <td>26.5</td>\n",
       "      <td>10</td>\n",
       "      <td>6</td>\n",
       "      <td>12</td>\n",
       "      <td>11</td>\n",
       "      <td>11</td>\n",
       "      <td>16</td>\n",
       "      <td>13</td>\n",
       "      <td>19</td>\n",
       "      <td>12</td>\n",
       "    </tr>\n",
       "    <tr>\n",
       "      <th>7</th>\n",
       "      <td>27.5</td>\n",
       "      <td>14</td>\n",
       "      <td>13</td>\n",
       "      <td>8</td>\n",
       "      <td>11</td>\n",
       "      <td>12</td>\n",
       "      <td>8</td>\n",
       "      <td>13</td>\n",
       "      <td>14</td>\n",
       "      <td>6</td>\n",
       "    </tr>\n",
       "    <tr>\n",
       "      <th>8</th>\n",
       "      <td>28.5</td>\n",
       "      <td>9</td>\n",
       "      <td>10</td>\n",
       "      <td>8</td>\n",
       "      <td>11</td>\n",
       "      <td>11</td>\n",
       "      <td>9</td>\n",
       "      <td>8</td>\n",
       "      <td>7</td>\n",
       "      <td>12</td>\n",
       "    </tr>\n",
       "    <tr>\n",
       "      <th>9</th>\n",
       "      <td>29.5</td>\n",
       "      <td>7</td>\n",
       "      <td>11</td>\n",
       "      <td>11</td>\n",
       "      <td>13</td>\n",
       "      <td>13</td>\n",
       "      <td>6</td>\n",
       "      <td>9</td>\n",
       "      <td>14</td>\n",
       "      <td>13</td>\n",
       "    </tr>\n",
       "    <tr>\n",
       "      <th>10</th>\n",
       "      <td>30.5</td>\n",
       "      <td>3</td>\n",
       "      <td>10</td>\n",
       "      <td>9</td>\n",
       "      <td>8</td>\n",
       "      <td>4</td>\n",
       "      <td>6</td>\n",
       "      <td>9</td>\n",
       "      <td>5</td>\n",
       "      <td>14</td>\n",
       "    </tr>\n",
       "    <tr>\n",
       "      <th>11</th>\n",
       "      <td>31.5</td>\n",
       "      <td>11</td>\n",
       "      <td>7</td>\n",
       "      <td>6</td>\n",
       "      <td>8</td>\n",
       "      <td>3</td>\n",
       "      <td>5</td>\n",
       "      <td>4</td>\n",
       "      <td>6</td>\n",
       "      <td>5</td>\n",
       "    </tr>\n",
       "    <tr>\n",
       "      <th>12</th>\n",
       "      <td>32.5</td>\n",
       "      <td>4</td>\n",
       "      <td>5</td>\n",
       "      <td>4</td>\n",
       "      <td>3</td>\n",
       "      <td>7</td>\n",
       "      <td>2</td>\n",
       "      <td>6</td>\n",
       "      <td>2</td>\n",
       "      <td>3</td>\n",
       "    </tr>\n",
       "    <tr>\n",
       "      <th>13</th>\n",
       "      <td>33.5</td>\n",
       "      <td>5</td>\n",
       "      <td>7</td>\n",
       "      <td>5</td>\n",
       "      <td>7</td>\n",
       "      <td>6</td>\n",
       "      <td>6</td>\n",
       "      <td>4</td>\n",
       "      <td>2</td>\n",
       "      <td>3</td>\n",
       "    </tr>\n",
       "    <tr>\n",
       "      <th>14</th>\n",
       "      <td>34.5</td>\n",
       "      <td>8</td>\n",
       "      <td>9</td>\n",
       "      <td>4</td>\n",
       "      <td>6</td>\n",
       "      <td>8</td>\n",
       "      <td>3</td>\n",
       "      <td>4</td>\n",
       "      <td>2</td>\n",
       "      <td>2</td>\n",
       "    </tr>\n",
       "    <tr>\n",
       "      <th>15</th>\n",
       "      <td>35.5</td>\n",
       "      <td>7</td>\n",
       "      <td>6</td>\n",
       "      <td>3</td>\n",
       "      <td>5</td>\n",
       "      <td>9</td>\n",
       "      <td>6</td>\n",
       "      <td>4</td>\n",
       "      <td>11</td>\n",
       "      <td>4</td>\n",
       "    </tr>\n",
       "    <tr>\n",
       "      <th>16</th>\n",
       "      <td>36.5</td>\n",
       "      <td>4</td>\n",
       "      <td>4</td>\n",
       "      <td>4</td>\n",
       "      <td>3</td>\n",
       "      <td>6</td>\n",
       "      <td>2</td>\n",
       "      <td>1</td>\n",
       "      <td>2</td>\n",
       "      <td>5</td>\n",
       "    </tr>\n",
       "    <tr>\n",
       "      <th>17</th>\n",
       "      <td>37.5</td>\n",
       "      <td>0</td>\n",
       "      <td>4</td>\n",
       "      <td>6</td>\n",
       "      <td>4</td>\n",
       "      <td>1</td>\n",
       "      <td>3</td>\n",
       "      <td>9</td>\n",
       "      <td>7</td>\n",
       "      <td>5</td>\n",
       "    </tr>\n",
       "    <tr>\n",
       "      <th>18</th>\n",
       "      <td>38.5</td>\n",
       "      <td>2</td>\n",
       "      <td>0</td>\n",
       "      <td>5</td>\n",
       "      <td>1</td>\n",
       "      <td>4</td>\n",
       "      <td>0</td>\n",
       "      <td>1</td>\n",
       "      <td>2</td>\n",
       "      <td>2</td>\n",
       "    </tr>\n",
       "    <tr>\n",
       "      <th>19</th>\n",
       "      <td>39.5</td>\n",
       "      <td>4</td>\n",
       "      <td>0</td>\n",
       "      <td>2</td>\n",
       "      <td>1</td>\n",
       "      <td>0</td>\n",
       "      <td>0</td>\n",
       "      <td>1</td>\n",
       "      <td>2</td>\n",
       "      <td>2</td>\n",
       "    </tr>\n",
       "    <tr>\n",
       "      <th>20</th>\n",
       "      <td>40.5</td>\n",
       "      <td>0</td>\n",
       "      <td>0</td>\n",
       "      <td>0</td>\n",
       "      <td>0</td>\n",
       "      <td>2</td>\n",
       "      <td>0</td>\n",
       "      <td>1</td>\n",
       "      <td>1</td>\n",
       "      <td>0</td>\n",
       "    </tr>\n",
       "    <tr>\n",
       "      <th>21</th>\n",
       "      <td>41.5</td>\n",
       "      <td>0</td>\n",
       "      <td>0</td>\n",
       "      <td>0</td>\n",
       "      <td>1</td>\n",
       "      <td>0</td>\n",
       "      <td>0</td>\n",
       "      <td>1</td>\n",
       "      <td>1</td>\n",
       "      <td>0</td>\n",
       "    </tr>\n",
       "    <tr>\n",
       "      <th>22</th>\n",
       "      <td>42.5</td>\n",
       "      <td>0</td>\n",
       "      <td>0</td>\n",
       "      <td>0</td>\n",
       "      <td>0</td>\n",
       "      <td>0</td>\n",
       "      <td>0</td>\n",
       "      <td>1</td>\n",
       "      <td>0</td>\n",
       "      <td>0</td>\n",
       "    </tr>\n",
       "    <tr>\n",
       "      <th>23</th>\n",
       "      <td>43.5</td>\n",
       "      <td>0</td>\n",
       "      <td>0</td>\n",
       "      <td>0</td>\n",
       "      <td>0</td>\n",
       "      <td>0</td>\n",
       "      <td>0</td>\n",
       "      <td>1</td>\n",
       "      <td>0</td>\n",
       "      <td>0</td>\n",
       "    </tr>\n",
       "  </tbody>\n",
       "</table>\n",
       "</div>"
      ],
      "text/plain": [
       "     BMI  Michigan  Iowa  MichiganSt  Minnesota  Nebraska  Northwestern  \\\n",
       "0   20.5         0     0           0          0         0             0   \n",
       "1   21.5         2     0           0          1         0             0   \n",
       "2   22.5         2     0           0          1         3             3   \n",
       "3   23.5         1     3           6          8         1             5   \n",
       "4   24.5         9     6           9          5        12            12   \n",
       "5   25.5         9    15           8         12        13            19   \n",
       "6   26.5        10     6          12         11        11            16   \n",
       "7   27.5        14    13           8         11        12             8   \n",
       "8   28.5         9    10           8         11        11             9   \n",
       "9   29.5         7    11          11         13        13             6   \n",
       "10  30.5         3    10           9          8         4             6   \n",
       "11  31.5        11     7           6          8         3             5   \n",
       "12  32.5         4     5           4          3         7             2   \n",
       "13  33.5         5     7           5          7         6             6   \n",
       "14  34.5         8     9           4          6         8             3   \n",
       "15  35.5         7     6           3          5         9             6   \n",
       "16  36.5         4     4           4          3         6             2   \n",
       "17  37.5         0     4           6          4         1             3   \n",
       "18  38.5         2     0           5          1         4             0   \n",
       "19  39.5         4     0           2          1         0             0   \n",
       "20  40.5         0     0           0          0         2             0   \n",
       "21  41.5         0     0           0          1         0             0   \n",
       "22  42.5         0     0           0          0         0             0   \n",
       "23  43.5         0     0           0          0         0             0   \n",
       "\n",
       "    NotreDame  OhioSt  PennSt  \n",
       "0           0       0       0  \n",
       "1           0       0       2  \n",
       "2           1       0       2  \n",
       "3           2       1       3  \n",
       "4           5       0       6  \n",
       "5           9      15      10  \n",
       "6          13      19      12  \n",
       "7          13      14       6  \n",
       "8           8       7      12  \n",
       "9           9      14      13  \n",
       "10          9       5      14  \n",
       "11          4       6       5  \n",
       "12          6       2       3  \n",
       "13          4       2       3  \n",
       "14          4       2       2  \n",
       "15          4      11       4  \n",
       "16          1       2       5  \n",
       "17          9       7       5  \n",
       "18          1       2       2  \n",
       "19          1       2       2  \n",
       "20          1       1       0  \n",
       "21          1       1       0  \n",
       "22          1       0       0  \n",
       "23          1       0       0  "
      ]
     },
     "execution_count": 3,
     "metadata": {},
     "output_type": "execute_result"
    }
   ],
   "source": [
    "df = pd.read_csv('2013_FootballRoster_BMI.csv')\n",
    "df"
   ]
  },
  {
   "cell_type": "code",
   "execution_count": 4,
   "id": "23c38dfb",
   "metadata": {},
   "outputs": [],
   "source": [
    "BMI_data = np.array(df)"
   ]
  },
  {
   "cell_type": "code",
   "execution_count": 5,
   "id": "a8e90946",
   "metadata": {},
   "outputs": [
    {
     "data": {
      "text/plain": [
       "29.86936936936937"
      ]
     },
     "execution_count": 5,
     "metadata": {},
     "output_type": "execute_result"
    }
   ],
   "source": [
    "# Michigan BMI\n",
    "def average():\n",
    "    for i in BMI_data:\n",
    "        BMI_list = []\n",
    "        avg = ((BMI_data[:,1])*(BMI_data[:,0]))\n",
    "        BMI_list.append(avg)\n",
    "    return np.sum(BMI_list)/np.sum(BMI_data[:,1])\n",
    "\n",
    "average()"
   ]
  },
  {
   "cell_type": "code",
   "execution_count": 6,
   "id": "ca5966e5",
   "metadata": {},
   "outputs": [
    {
     "data": {
      "text/plain": [
       "30.036363636363635"
      ]
     },
     "execution_count": 6,
     "metadata": {},
     "output_type": "execute_result"
    }
   ],
   "source": [
    "# Michigan State BMI\n",
    "def average():\n",
    "    for i in BMI_data:\n",
    "        BMI_list = []\n",
    "        avg = ((BMI_data[:,3])*(BMI_data[:,0]))\n",
    "        BMI_list.append(avg)\n",
    "    return np.sum(BMI_list)/np.sum(BMI_data[:,3])\n",
    "\n",
    "average()"
   ]
  },
  {
   "cell_type": "code",
   "execution_count": 7,
   "id": "0226ad10",
   "metadata": {},
   "outputs": [
    {
     "data": {
      "text/plain": [
       "30.207964601769913"
      ]
     },
     "execution_count": 7,
     "metadata": {},
     "output_type": "execute_result"
    }
   ],
   "source": [
    "# Ohio State BMI\n",
    "def average():\n",
    "    for i in BMI_data:\n",
    "        BMI_list = []\n",
    "        avg = ((BMI_data[:,8])*(BMI_data[:,0]))\n",
    "        BMI_list.append(avg)\n",
    "    return np.sum(BMI_list)/np.sum(BMI_data[:,8])\n",
    "\n",
    "average()"
   ]
  },
  {
   "cell_type": "code",
   "execution_count": 8,
   "id": "59a617f1",
   "metadata": {},
   "outputs": [
    {
     "data": {
      "text/plain": [
       "29.525"
      ]
     },
     "execution_count": 8,
     "metadata": {},
     "output_type": "execute_result"
    }
   ],
   "source": [
    "# Difference in Average BMI between Michigan and Minnesota\n",
    "# Minnesota BMI\n",
    "def average():\n",
    "    for i in BMI_data:\n",
    "        BMI_list = []\n",
    "        avg = ((BMI_data[:,4])*(BMI_data[:,0]))\n",
    "        BMI_list.append(avg)\n",
    "    return np.sum(BMI_list)/np.sum(BMI_data[:,4])\n",
    "\n",
    "average()"
   ]
  },
  {
   "cell_type": "code",
   "execution_count": 9,
   "id": "29d94403",
   "metadata": {},
   "outputs": [
    {
     "data": {
      "text/plain": [
       "0.344369369369371"
      ]
     },
     "execution_count": 9,
     "metadata": {},
     "output_type": "execute_result"
    }
   ],
   "source": [
    "29.86936936936937 - 29.525 "
   ]
  },
  {
   "cell_type": "code",
   "execution_count": 10,
   "id": "c632c061",
   "metadata": {},
   "outputs": [
    {
     "data": {
      "text/plain": [
       "30.3411214953271"
      ]
     },
     "execution_count": 10,
     "metadata": {},
     "output_type": "execute_result"
    }
   ],
   "source": [
    "# Difference in Average BMI between Michigan and Notre Dame\n",
    "# Notre Dame BMI\n",
    "def average():\n",
    "    for i in BMI_data:\n",
    "        BMI_list = []\n",
    "        avg = ((BMI_data[:,7])*(BMI_data[:,0]))\n",
    "        BMI_list.append(avg)\n",
    "    return np.sum(BMI_list)/np.sum(BMI_data[:,7])\n",
    "\n",
    "average()"
   ]
  },
  {
   "cell_type": "code",
   "execution_count": 11,
   "id": "06dd063b",
   "metadata": {
    "scrolled": true
   },
   "outputs": [
    {
     "data": {
      "text/plain": [
       "-0.47175212595773175"
      ]
     },
     "execution_count": 11,
     "metadata": {},
     "output_type": "execute_result"
    }
   ],
   "source": [
    "29.86936936936937 - 30.3411214953271"
   ]
  },
  {
   "cell_type": "code",
   "execution_count": 12,
   "id": "d05b5ee6",
   "metadata": {},
   "outputs": [
    {
     "data": {
      "text/plain": [
       "29.896551724137932"
      ]
     },
     "execution_count": 12,
     "metadata": {},
     "output_type": "execute_result"
    }
   ],
   "source": [
    "# Difference in Average BMI between Michigan and Iowa\n",
    "# Iowa BMI\n",
    "def average():\n",
    "    for i in BMI_data:\n",
    "        BMI_list = []\n",
    "        avg = ((BMI_data[:,2])*(BMI_data[:,0]))\n",
    "        BMI_list.append(avg)\n",
    "    return np.sum(BMI_list)/np.sum(BMI_data[:,2])\n",
    "\n",
    "average()"
   ]
  },
  {
   "cell_type": "code",
   "execution_count": 13,
   "id": "e78a1d09",
   "metadata": {},
   "outputs": [
    {
     "data": {
      "text/plain": [
       "-0.02718235476856279"
      ]
     },
     "execution_count": 13,
     "metadata": {},
     "output_type": "execute_result"
    }
   ],
   "source": [
    "29.86936936936937 - 29.896551724137932"
   ]
  },
  {
   "cell_type": "code",
   "execution_count": 14,
   "id": "20d98c1b",
   "metadata": {},
   "outputs": [
    {
     "data": {
      "text/plain": [
       "-0.16699426699426567"
      ]
     },
     "execution_count": 14,
     "metadata": {},
     "output_type": "execute_result"
    }
   ],
   "source": [
    "29.86936936936937 - 30.036363636363635"
   ]
  },
  {
   "cell_type": "code",
   "execution_count": 15,
   "id": "1b1824d4",
   "metadata": {},
   "outputs": [
    {
     "data": {
      "text/plain": [
       "29.896825396825395"
      ]
     },
     "execution_count": 15,
     "metadata": {},
     "output_type": "execute_result"
    }
   ],
   "source": [
    "def average():\n",
    "    for i in BMI_data:\n",
    "        BMI_list = []\n",
    "        avg = ((BMI_data[:,5])*(BMI_data[:,0]))\n",
    "        BMI_list.append(avg)\n",
    "    return np.sum(BMI_list)/np.sum(BMI_data[:,5])\n",
    "\n",
    "average()"
   ]
  },
  {
   "cell_type": "code",
   "execution_count": 16,
   "id": "9e73ee36",
   "metadata": {},
   "outputs": [
    {
     "data": {
      "text/plain": [
       "-0.027456027456025822"
      ]
     },
     "execution_count": 16,
     "metadata": {},
     "output_type": "execute_result"
    }
   ],
   "source": [
    "29.86936936936937 - 29.896825396825395"
   ]
  },
  {
   "cell_type": "code",
   "execution_count": 17,
   "id": "987aa695",
   "metadata": {},
   "outputs": [
    {
     "data": {
      "text/plain": [
       "29.626126126126128"
      ]
     },
     "execution_count": 17,
     "metadata": {},
     "output_type": "execute_result"
    }
   ],
   "source": [
    "def average():\n",
    "    for i in BMI_data:\n",
    "        BMI_list = []\n",
    "        avg = ((BMI_data[:,9])*(BMI_data[:,0]))\n",
    "        BMI_list.append(avg)\n",
    "    return np.sum(BMI_list)/np.sum(BMI_data[:,9])\n",
    "\n",
    "average()"
   ]
  },
  {
   "cell_type": "code",
   "execution_count": 18,
   "id": "3df41249",
   "metadata": {},
   "outputs": [
    {
     "data": {
      "text/plain": [
       "0.2432432432432421"
      ]
     },
     "execution_count": 18,
     "metadata": {},
     "output_type": "execute_result"
    }
   ],
   "source": [
    "29.86936936936937 - 29.626126126126128"
   ]
  },
  {
   "cell_type": "code",
   "execution_count": 19,
   "id": "6ddfb120",
   "metadata": {},
   "outputs": [
    {
     "data": {
      "text/plain": [
       "-0.338595232400543"
      ]
     },
     "execution_count": 19,
     "metadata": {},
     "output_type": "execute_result"
    }
   ],
   "source": [
    "29.86936936936937 - 30.207964601769913"
   ]
  },
  {
   "cell_type": "code",
   "execution_count": 20,
   "id": "c60b2d49",
   "metadata": {},
   "outputs": [],
   "source": [
    "# Calculate the correlation coefficient between the \\[Delta]BMI and the point spread, for each of the opponents of Michigan.\n",
    "\n",
    "# Note: You will need the average BMI, and difference in BMI for all teams calculated for this question.\n",
    "\n",
    "from scipy.stats import pearsonr"
   ]
  },
  {
   "cell_type": "code",
   "execution_count": 21,
   "id": "d59dbb8e",
   "metadata": {},
   "outputs": [
    {
     "data": {
      "text/plain": [
       "0.2790326324607809"
      ]
     },
     "execution_count": 21,
     "metadata": {},
     "output_type": "execute_result"
    }
   ],
   "source": [
    "yay = pd.read_csv('BMI_csv - Sheet1.csv')\n",
    "\n",
    "final = np.array(yay)\n",
    "final\n",
    "corrcoeff, z = pearsonr(final[:,0],final[:,1])\n",
    "corrcoeff"
   ]
  },
  {
   "cell_type": "code",
   "execution_count": 22,
   "id": "80f3f1d3",
   "metadata": {},
   "outputs": [
    {
     "data": {
      "text/plain": [
       "Ttest_1sampResult(statistic=array([-31.44982026,  -0.92017651]), pvalue=array([6.86593293e-08, 3.92972860e-01]))"
      ]
     },
     "execution_count": 22,
     "metadata": {},
     "output_type": "execute_result"
    }
   ],
   "source": [
    "\n",
    "import scipy.stats\n",
    "scipy.stats.ttest_1samp(yay, popmean=8, axis=0, nan_policy='propagate', alternative='two-sided')"
   ]
  },
  {
   "cell_type": "code",
   "execution_count": 27,
   "id": "3cf3107e",
   "metadata": {},
   "outputs": [
    {
     "data": {
      "text/plain": [
       "0.7117574227847628"
      ]
     },
     "execution_count": 27,
     "metadata": {},
     "output_type": "execute_result"
    }
   ],
   "source": [
    "num = np.sqrt(6)\n",
    "den = np.sqrt(1-(0.2790326324607809**2))\n",
    "t = 0.2790326324607809*(num/den)\n",
    "t"
   ]
  },
  {
   "cell_type": "code",
   "execution_count": null,
   "id": "4601c306",
   "metadata": {},
   "outputs": [],
   "source": []
  },
  {
   "cell_type": "code",
   "execution_count": null,
   "id": "98957c03",
   "metadata": {},
   "outputs": [],
   "source": []
  }
 ],
 "metadata": {
  "kernelspec": {
   "display_name": "Python 3 (ipykernel)",
   "language": "python",
   "name": "python3"
  },
  "language_info": {
   "codemirror_mode": {
    "name": "ipython",
    "version": 3
   },
   "file_extension": ".py",
   "mimetype": "text/x-python",
   "name": "python",
   "nbconvert_exporter": "python",
   "pygments_lexer": "ipython3",
   "version": "3.8.11"
  }
 },
 "nbformat": 4,
 "nbformat_minor": 5
}
