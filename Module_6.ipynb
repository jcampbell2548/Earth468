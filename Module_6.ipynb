{
 "cells": [
  {
   "cell_type": "code",
   "execution_count": 2,
   "id": "30380bf0",
   "metadata": {},
   "outputs": [],
   "source": [
    "import numpy as np\n",
    "import matplotlib.pyplot as plt"
   ]
  },
  {
   "cell_type": "code",
   "execution_count": 3,
   "id": "397253e1",
   "metadata": {},
   "outputs": [],
   "source": [
    "def LS(G,d):\n",
    "    return np.linalg.inv(G.T@G)@G.T@d"
   ]
  },
  {
   "cell_type": "code",
   "execution_count": 4,
   "id": "ecba2410",
   "metadata": {},
   "outputs": [],
   "source": [
    "G = (([0.2,0.4]))\n",
    "def linear_G(blah):\n",
    "    intercept = np.repeat(1,len(blah))\n",
    "    return np.vstack((intercept, blah)).T\n",
    "def alt_linear(blah):\n",
    "    G = np.ones((blah.shape[0],2))\n",
    "    G [:,1] = blah\n",
    "    return G"
   ]
  },
  {
   "cell_type": "code",
   "execution_count": 5,
   "id": "e15a0ee3",
   "metadata": {},
   "outputs": [
    {
     "data": {
      "text/plain": [
       "array([[1. , 0.2],\n",
       "       [1. , 0.4]])"
      ]
     },
     "execution_count": 5,
     "metadata": {},
     "output_type": "execute_result"
    }
   ],
   "source": [
    "G_matrix = linear_G(G)\n",
    "G_matrix"
   ]
  },
  {
   "cell_type": "code",
   "execution_count": 6,
   "id": "6858863e",
   "metadata": {},
   "outputs": [
    {
     "data": {
      "text/plain": [
       "[0.38, 0.6799999999999999]"
      ]
     },
     "execution_count": 6,
     "metadata": {},
     "output_type": "execute_result"
    }
   ],
   "source": [
    "d_vector = (([3.8/10,6.8/10]))\n",
    "d_vector"
   ]
  },
  {
   "cell_type": "code",
   "execution_count": 7,
   "id": "85b299c4",
   "metadata": {},
   "outputs": [
    {
     "data": {
      "text/plain": [
       "array([0.08, 1.5 ])"
      ]
     },
     "execution_count": 7,
     "metadata": {},
     "output_type": "execute_result"
    }
   ],
   "source": [
    "LS = LS(G_matrix,d_vector)\n",
    "LS"
   ]
  },
  {
   "cell_type": "code",
   "execution_count": 8,
   "id": "e53de873",
   "metadata": {},
   "outputs": [
    {
     "data": {
      "text/plain": [
       "1.7399999999999998"
      ]
     },
     "execution_count": 8,
     "metadata": {},
     "output_type": "execute_result"
    }
   ],
   "source": [
    "dCO2_NA = 0.38/0.2\n",
    "dCO2_EA = 0.68/0.4\n",
    "list_dCO2 = ([dCO2_NA,dCO2_EA])\n",
    "weight_matrix = ([0.2**2,0.4**2])\n",
    "\n",
    "weighted_avg_dCO2 = np.average(list_dCO2,weights=weight_matrix)\n",
    "\n",
    "weighted_avg_dCO2"
   ]
  },
  {
   "cell_type": "code",
   "execution_count": 12,
   "id": "8c2b0caa",
   "metadata": {},
   "outputs": [
    {
     "data": {
      "text/plain": [
       "array([-0.364, -0.08 ])"
      ]
     },
     "execution_count": 12,
     "metadata": {},
     "output_type": "execute_result"
    }
   ],
   "source": [
    "residuals = G*LS-d_vector\n",
    "residuals"
   ]
  },
  {
   "cell_type": "code",
   "execution_count": 15,
   "id": "16dd29d7",
   "metadata": {},
   "outputs": [],
   "source": [
    "dprediction=G@LS"
   ]
  },
  {
   "cell_type": "code",
   "execution_count": 17,
   "id": "5e6d0013",
   "metadata": {},
   "outputs": [],
   "source": [
    "residualss = dprediction-d_vector"
   ]
  },
  {
   "cell_type": "code",
   "execution_count": 18,
   "id": "e01a6533",
   "metadata": {},
   "outputs": [],
   "source": [
    "from numpy import array\n",
    "from numpy.linalg import norm"
   ]
  },
  {
   "cell_type": "code",
   "execution_count": 21,
   "id": "62ef9b86",
   "metadata": {},
   "outputs": [
    {
     "data": {
      "text/plain": [
       "0.24452402744924684"
      ]
     },
     "execution_count": 21,
     "metadata": {},
     "output_type": "execute_result"
    }
   ],
   "source": [
    "np.sqrt(residualss[0]**2+residualss[1]**2)\n",
    "np.linalg.norm(residualss)"
   ]
  },
  {
   "cell_type": "code",
   "execution_count": null,
   "id": "2fbcacf0",
   "metadata": {},
   "outputs": [],
   "source": []
  }
 ],
 "metadata": {
  "kernelspec": {
   "display_name": "Python 3 (ipykernel)",
   "language": "python",
   "name": "python3"
  },
  "language_info": {
   "codemirror_mode": {
    "name": "ipython",
    "version": 3
   },
   "file_extension": ".py",
   "mimetype": "text/x-python",
   "name": "python",
   "nbconvert_exporter": "python",
   "pygments_lexer": "ipython3",
   "version": "3.8.11"
  }
 },
 "nbformat": 4,
 "nbformat_minor": 5
}
