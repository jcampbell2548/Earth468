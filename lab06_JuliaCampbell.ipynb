{
 "cells": [
  {
   "cell_type": "markdown",
   "metadata": {},
   "source": [
    "# <font color='red'>Lab 06 - Yeti Socialization Lab</font>\n",
    "\n",
    "### EARTH 468: Data Analysis & Model Estimation\n",
    "\n",
    "##### Lab developed by E.A. Hetland\n",
    "\n",
    "#### Due by the beginning of the lab period for the week of October 26, 2021 (2 weeks).\n",
    "\n",
    "**For full credit:** \n",
    "\n",
    "Be sure to include your name with your notebook either as a markdown cell or in the file name. \n",
    "\n",
    "Write any necessary code in code cells below the description of each question. Write any discussion answers in markdown cells below the code cells, not as comments in your code. Be explicit about what you are answering and write in complete sentences. \n",
    "\n",
    "If you are asked to include a plot, make sure to label the axes and include a descriptive title.\n",
    "\n",
    "To turn in this assignment, in the Jupyter toolbar select File/Download as/html or pdf. Make sure that all of your outputs are clear. Upload the downloaded file to the proper assignment submission page on Canvas. Please do not turn in a .ipynb file.\n",
    "\n",
    "**Objective:** To gain an understanding of the concept of leveraging in model fitting. \n",
    "\n",
    "**Python Objective:** To implement a linear least squares solution. \n",
    "\n",
    "**Data:** The data in this lab are entirely made up, and any resemblances to data sets that may be copyrighted by textbook publishers, particularly after those datasets were in the public domain for decades prior, is entirely circumstantial. The data is in *SocialYetis-Data.csv*. \n",
    "\n",
    "# <font color='orange'>Excercise - 40 pts</font>\n",
    "\n",
    "A visiting professor at the University of Michigan Yeti Activity Center (UM-YAC) has just returned from the Sakteng Yeti reserve, in the Kingdom of Bhutan, where she spent the last six years tracking and studying Yetis. The visiting professor observed that Yetis exhibit a complex social behaviour, involving long stretches of solitude, but then forming a pack to collectively care for the upbringing of juvenile Yetis. The visiting professors observed that adolescent Yetis tend to separate from the nominal pack that raised them, setting out to make their way in the wild, in the age range that she estimates is 10–20 years old. Furthermore, the adolescent Yetis also have a range of social skills, judged from their interaction with the adult Yetis. The visiting professor has collected data on nine Yetis, and estimated both their age at separation from the pack and their perceived socialization measure. \n",
    "\n",
    "The visiting professor estimated the Yeti ages at separation, and assessed that the estimated ages were good to ±1 year at the 95% confidence. Socialization was quantified on a scale of 0–1, and the visiting professor felt that the estimated socialization scores were good to ±0.09 at 95% confidence. \n",
    "\n",
    "The data is in the file *SocialYetis-Data.csv,* with age in the first column, and socialization score in the second: \n",
    "\n",
    "<img src=\"Lab06_yeti.png\">\n",
    "\n",
    "The UM-YAC PI hands the data off to you, knowing that you have learned advanced statistical reasoning in EARTH 468, and asks you to fit linear models to the data (the UM-YAC PI and visiting professor are too pre-occupied with chilling the champagne and writing their acceptance speech for their anticipated Nobel prize in physiology). \n",
    "You decide to use least squares regression to investigate a linear relationship between separation age and socialization. As there are uncertainties on both variates of the paired data, you are unsure what variate should be considered the context and what should be considered the data. Additionally, it is not clear if one of the variates is dependent on the other. So you decide to try both cases. As all of the errors in age or socialization are equal, then the errors themselves will not bias the solution (as we shall see in later lectures), so you ignore the errors. "
   ]
  },
  {
   "cell_type": "markdown",
   "metadata": {},
   "source": [
    "# <font color='red'>Import Libraries:</font>"
   ]
  },
  {
   "cell_type": "code",
   "execution_count": 1,
   "metadata": {},
   "outputs": [],
   "source": [
    "import numpy as np\n",
    "import pandas as pd\n",
    "import matplotlib.pyplot as plt"
   ]
  },
  {
   "cell_type": "markdown",
   "metadata": {},
   "source": [
    "## <font color='red'>a) 5 pts</font>\n",
    "\n",
    "Explain what the difference is between “context” and “data”, in the perspective of EARTH 468 and regression. Specifically, what is the implicit assumption made in choosing to treat either age or socialization score as data or data context?\n"
   ]
  },
  {
   "cell_type": "markdown",
   "metadata": {},
   "source": [
    "Data is a measurement that inherently has some uncertainty associated with it. Data context is something we assume we know perfectly, the uncertainty on data context is so small compared to uncertainty on the data that it is negligible. We see a fairly similar magnitude of uncertainty on both age and socialization, so we don't know which should be data and which should be data context. Whichever you choose to be data context, you're assuming a negligible uncertainty associated with it compared to the data uncertainty."
   ]
  },
  {
   "cell_type": "markdown",
   "metadata": {},
   "source": [
    "## <font color='red'>b) 10 pts</font>\n",
    "\n",
    "In the first step you decide to treat socialization score as the data, and age as the data context, and propose the following system: \n",
    "\n",
    "$socialization = m_1 + m_2 age$\n",
    "\n",
    "Find the least squares solution to the above system.\n",
    "\n",
    "Recall that if we assume there are no uncertainties in the data, $m_{est}=\\left(G^TG\\right)^{-1}G^Td$. Consider using the following design matrix, $G$:\n",
    "\n",
    "$G_{(linear)} = \\begin{pmatrix} 1 & context_1 \\\\\n",
    "                     1 & context_2 \\\\\n",
    "                     \\vdots & \\vdots \\\\\n",
    "                     1 & context_n \\end{pmatrix} $\n",
    "\n",
    "Also recall that the best-fit solution is $Y_{bf}=G m_{est}$.\n",
    "\n",
    "<b> Include in the lab write-up both the solution and a plot showing the data and the prediction of the best-fit model. </b>\n"
   ]
  },
  {
   "cell_type": "code",
   "execution_count": 2,
   "metadata": {},
   "outputs": [
    {
     "data": {
      "text/plain": [
       "array([1, 2, 3, 4, 5, 6, 7, 8, 9])"
      ]
     },
     "execution_count": 2,
     "metadata": {},
     "output_type": "execute_result"
    }
   ],
   "source": [
    "example_array = np.arange(1,10)\n",
    "example_array"
   ]
  },
  {
   "cell_type": "code",
   "execution_count": 3,
   "metadata": {},
   "outputs": [
    {
     "data": {
      "text/plain": [
       "array([1, 1, 1, 1, 1, 1, 1, 1, 1])"
      ]
     },
     "execution_count": 3,
     "metadata": {},
     "output_type": "execute_result"
    }
   ],
   "source": [
    "np.repeat(1,example_array.shape[0]) # repeats \"1\" 9 times"
   ]
  },
  {
   "cell_type": "code",
   "execution_count": 4,
   "metadata": {},
   "outputs": [
    {
     "data": {
      "text/plain": [
       "array([[1, 1],\n",
       "       [1, 2],\n",
       "       [1, 3],\n",
       "       [1, 4],\n",
       "       [1, 5],\n",
       "       [1, 6],\n",
       "       [1, 7],\n",
       "       [1, 8],\n",
       "       [1, 9]])"
      ]
     },
     "execution_count": 4,
     "metadata": {},
     "output_type": "execute_result"
    }
   ],
   "source": [
    "np.vstack((np.repeat(1,example_array.shape[0]),example_array)).T # transpose array"
   ]
  },
  {
   "cell_type": "code",
   "execution_count": 5,
   "metadata": {},
   "outputs": [],
   "source": [
    "def linear_G(context):\n",
    "    return np.vstack((np.repeat(1,context.shape[0]),context)).T\n",
    "\n",
    "def LS(G,d): # G: design matrix; d: data\n",
    "    return np.linalg.inv(G.T@G)@G.T@d # \"@\" to multiply matrices\n",
    "    # return np.dot(np.dot(np.linalg.inv(np.dot(G.T,G)),G.T),d)"
   ]
  },
  {
   "cell_type": "code",
   "execution_count": 6,
   "metadata": {},
   "outputs": [],
   "source": [
    "df = pd.read_csv('SocialYetis-Data.csv',header=None)\n",
    "data = np.array(df)\n",
    "age = data[:,0]\n",
    "social = data[:,1]"
   ]
  },
  {
   "cell_type": "code",
   "execution_count": 7,
   "metadata": {},
   "outputs": [
    {
     "data": {
      "text/plain": [
       "array([-0.1654426 ,  0.07330142])"
      ]
     },
     "execution_count": 7,
     "metadata": {},
     "output_type": "execute_result"
    }
   ],
   "source": [
    "G_agecontext = linear_G(age)\n",
    "LS_agecontext = LS(G_agecontext,social) # outputs line intercept, line slope\n",
    "Y_socialprediction = G_agecontext@LS_agecontext\n",
    "Y_socialprediction\n",
    "LS_agecontext"
   ]
  },
  {
   "cell_type": "code",
   "execution_count": 25,
   "metadata": {},
   "outputs": [
    {
     "data": {
      "text/plain": [
       "<matplotlib.legend.Legend at 0x7fd96d5117c0>"
      ]
     },
     "execution_count": 25,
     "metadata": {},
     "output_type": "execute_result"
    },
    {
     "data": {
      "image/png": "[encoded data removed]",
      "text/plain": [
       "<Figure size 576x576 with 1 Axes>"
      ]
     },
     "metadata": {
      "needs_background": "light"
     },
     "output_type": "display_data"
    }
   ],
   "source": [
    "fig = plt.figure(figsize=[8,8])\n",
    "ax = fig.add_subplot(111)\n",
    "ax.scatter(age,social,label='Dataset',color='red')\n",
    "ax.plot(age,Y_socialprediction,color='red',label='Regression Line: Social = {} + {}age'.format(*np.round(LS_agecontext,2)))\n",
    "ax.set_xlabel('Yeti Age (yr)',size=15)\n",
    "ax.set_ylabel('Yeti Socialization Score',size=15)\n",
    "ax.set_title('Yeti Socialization Score Least Squares Regression',size=20)\n",
    "ax.legend()"
   ]
  },
  {
   "cell_type": "markdown",
   "metadata": {},
   "source": [
    "## <font color='red'>c) 5 pts</font>\n",
    "\n",
    "<b>Are there systematic misfits of the best fit solution found in part (b) compared to the data? If so, what do the misfits signify in terms of the proposed system and what data feature is responsible for causing the systematic misfits? </b>\n",
    "\n",
    "By “systematic misfits”, we mean coherent trends in the data that are not well described by the model. You will want to create a scatter plot of your residuals to interpret this.\n"
   ]
  },
  {
   "cell_type": "code",
   "execution_count": 30,
   "metadata": {},
   "outputs": [
    {
     "data": {
      "text/plain": [
       "array([ 0.10820312,  0.23752368,  0.05150453, -0.04383518, -0.15650504,\n",
       "       -0.08718448, -0.11519405, -0.13053377,  0.13602119])"
      ]
     },
     "execution_count": 30,
     "metadata": {},
     "output_type": "execute_result"
    }
   ],
   "source": [
    "def residuals(prediction,data):\n",
    "    return prediction-data\n",
    "\n",
    "social_residuals = residuals(Y_socialprediction,social)\n",
    "social_residuals"
   ]
  },
  {
   "cell_type": "code",
   "execution_count": 19,
   "metadata": {},
   "outputs": [
    {
     "data": {
      "text/plain": [
       "Text(0.5, 1.0, 'Residual Plot for Yeti Socialization Data')"
      ]
     },
     "execution_count": 19,
     "metadata": {},
     "output_type": "execute_result"
    },
    {
     "data": {
      "image/png": "[encoded data removed]",
      "text/plain": [
       "<Figure size 432x288 with 1 Axes>"
      ]
     },
     "metadata": {
      "needs_background": "light"
     },
     "output_type": "display_data"
    }
   ],
   "source": [
    "fig = plt.figure()\n",
    "ax = fig.add_subplot(111)\n",
    "ax.scatter(age,social_residuals,color='red')\n",
    "ax.set_xlabel('Yeti Age (yr)')\n",
    "ax.set_ylabel('Residuals = Prediction - Data')\n",
    "ax.set_title('Residual Plot for Yeti Socialization Data')"
   ]
  },
  {
   "cell_type": "markdown",
   "metadata": {},
   "source": [
    "There is a systematic misfit of the best fit solution found in part (b) compared to the data because the part (b) plot showed age 17 data is shifting the overall regression line downward (lower slope). This could be from ignoring the error in age data, because we assume the age as data context, so with negligible uncertainty. The gap between the best fit line and original data shows a systematic misfit."
   ]
  },
  {
   "cell_type": "markdown",
   "metadata": {},
   "source": [
    "## <font color='red'>d) 10 pts</font>\n",
    "\n",
    "In the second step you decide to treat age as the data, and socialization score as the data context, and propose the following system: \n",
    "\n",
    "$age = m_1 + m_2 socialization$\n",
    "\n",
    "Find the least squares solution to the above system. \n",
    "*Hint: use the linear design matrix function and the least squares that you created in part b*.\n",
    "\n",
    "<b> Include in the lab write-up both the solution and a plot showing the data and the prediction of the best-fit model. </b>"
   ]
  },
  {
   "cell_type": "code",
   "execution_count": 27,
   "metadata": {},
   "outputs": [
    {
     "data": {
      "text/plain": [
       "array([11.43790925, 10.847444  , 12.20551407, 12.85502585, 13.56358415,\n",
       "       13.32739805, 13.62263067, 13.79977025, 13.74072372])"
      ]
     },
     "execution_count": 27,
     "metadata": {},
     "output_type": "execute_result"
    }
   ],
   "source": [
    "G_socialcontext = linear_G(social)\n",
    "LS_socialcontext = LS(G_socialcontext,age) \n",
    "Y_ageprediction = G_socialcontext@LS_socialcontext\n",
    "Y_ageprediction"
   ]
  },
  {
   "cell_type": "code",
   "execution_count": 26,
   "metadata": {},
   "outputs": [
    {
     "data": {
      "text/plain": [
       "<matplotlib.legend.Legend at 0x7fd96d69d940>"
      ]
     },
     "execution_count": 26,
     "metadata": {},
     "output_type": "execute_result"
    },
    {
     "data": {
      "image/png": "[encoded data removed]",
      "text/plain": [
       "<Figure size 576x576 with 1 Axes>"
      ]
     },
     "metadata": {
      "needs_background": "light"
     },
     "output_type": "display_data"
    }
   ],
   "source": [
    "fig = plt.figure(figsize=[8,8])\n",
    "ax = fig.add_subplot(111)\n",
    "ax.scatter(social,age,label='Dataset',color='blue')\n",
    "ax.plot(social,Y_ageprediction,color='blue',label='Regression Line: Age = {} + {}social'.format(*np.round(LS_socialcontext,2)))\n",
    "ax.set_xlabel('Yeti Socialization Score',size=15)\n",
    "ax.set_ylabel('Yeti Age (yrs)',size=15)\n",
    "ax.set_title('Yeti Age Least Squares Regression',size=20)\n",
    "ax.legend()"
   ]
  },
  {
   "cell_type": "markdown",
   "metadata": {},
   "source": [
    "## <font color='red'>e) 5 pts</font>\n",
    "\n",
    "<b>Are there systematic misfits of the best fit solution found in part (d) compared to the data? If so, what do the misfits signify in terms of the proposed system and what data feature is responsible for causing the systematic misfits?</b>\n",
    "\n",
    "By “systematic misfits”, we mean coherent trends in the data that are not well described by the model. You will want to create a scatter plot of your residuals to interpret this."
   ]
  },
  {
   "cell_type": "code",
   "execution_count": 29,
   "metadata": {},
   "outputs": [
    {
     "data": {
      "text/plain": [
       "array([ 0.33790925, -0.652556  ,  0.10551407,  0.55502585,  1.16358415,\n",
       "        0.52739805,  0.52263067,  0.49977025, -3.05927628])"
      ]
     },
     "execution_count": 29,
     "metadata": {},
     "output_type": "execute_result"
    }
   ],
   "source": [
    "age_residuals = residuals(Y_ageprediction,age)\n",
    "age_residuals"
   ]
  },
  {
   "cell_type": "code",
   "execution_count": 23,
   "metadata": {},
   "outputs": [
    {
     "data": {
      "text/plain": [
       "Text(0.5, 1.0, 'Residual Plot for Yeti Age Data')"
      ]
     },
     "execution_count": 23,
     "metadata": {},
     "output_type": "execute_result"
    },
    {
     "data": {
      "image/png": "[encoded data removed]",
      "text/plain": [
       "<Figure size 432x288 with 1 Axes>"
      ]
     },
     "metadata": {
      "needs_background": "light"
     },
     "output_type": "display_data"
    }
   ],
   "source": [
    "fig = plt.figure()\n",
    "ax = fig.add_subplot(111)\n",
    "ax.scatter(social,age_residuals,color='blue')\n",
    "ax.set_xlabel('Socialization Score')\n",
    "ax.set_ylabel('Residuals = Prediction - Data')\n",
    "ax.set_title('Residual Plot for Yeti Age Data')"
   ]
  },
  {
   "cell_type": "markdown",
   "metadata": {},
   "source": [
    "There isn't as much of a clear systematic misfit in part (d) as compared to part (b) because there is less of a gap along the x axis (so regression line is not shifted as much and less impact overall on best fit line). However, the older yeti data still does not fit well into the best fit line. "
   ]
  },
  {
   "cell_type": "markdown",
   "metadata": {},
   "source": [
    "## <font color='red'>f) 5 pts</font>\n",
    "\n",
    "\n",
    "Are the solutions found in parts (b) and (d) equivalent? If not, explain what the difference is and what is causing the difference. \n"
   ]
  },
  {
   "cell_type": "markdown",
   "metadata": {},
   "source": [
    "Our two solutions are: social = -0.17 + 0.07age and age = 8.25 + 5.9social. \n",
    "\n",
    "These two solutions found in parts (b) and (d) are not equivalent (if you compare them algebraically). The difference is a result of leveraging. We changed axes, so age was the x axis (data context) of the first plot while socialization score was the x axis (data context) of the second plot. So when socialization is the context then the data spans the whole x axis which is good, but when age is the context, we have a huge gap in our data context, which is a problem for the best fit line. This causes our solutions to be dissimilar."
   ]
  },
  {
   "cell_type": "code",
   "execution_count": null,
   "metadata": {},
   "outputs": [],
   "source": []
  }
 ],
 "metadata": {
  "kernelspec": {
   "display_name": "Python 3 (ipykernel)",
   "language": "python",
   "name": "python3"
  },
  "language_info": {
   "codemirror_mode": {
    "name": "ipython",
    "version": 3
   },
   "file_extension": ".py",
   "mimetype": "text/x-python",
   "name": "python",
   "nbconvert_exporter": "python",
   "pygments_lexer": "ipython3",
   "version": "3.8.11"
  }
 },
 "nbformat": 4,
 "nbformat_minor": 2
}
