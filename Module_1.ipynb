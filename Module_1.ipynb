{
 "cells": [
  {
   "cell_type": "code",
   "execution_count": 1,
   "id": "d872d1cc",
   "metadata": {},
   "outputs": [
    {
     "name": "stdout",
     "output_type": "stream",
     "text": [
      "     year      name state  area (acres)\n",
      "0    2004    Taylor    AK       1305592\n",
      "1    2006      East    TX        907245\n",
      "2    2017        NW    OK        779292\n",
      "3    2007    Murphy    ID        652016\n",
      "4    2009  Railbelt    AK        636224\n",
      "..    ...       ...   ...           ...\n",
      "182  2009       Rex    AK        101150\n",
      "183  2006       Bar    CA        100414\n",
      "184  1999      Kink    AK        100000\n",
      "185  2000  Maudlow/    MT        100000\n",
      "186  2002  Vinasale    AK        100000\n",
      "\n",
      "[187 rows x 4 columns]\n"
     ]
    }
   ],
   "source": [
    "import numpy as np\n",
    "import matplotlib as plt\n",
    "import pandas as pd\n",
    "data = pd.read_table(\"NIFC_FireStats-1997-2017.csv\",sep=',',skipinitialspace=True)\n",
    "print(data)"
   ]
  },
  {
   "cell_type": "code",
   "execution_count": 3,
   "id": "3b790660",
   "metadata": {},
   "outputs": [
    {
     "name": "stdout",
     "output_type": "stream",
     "text": [
      "166177.0\n"
     ]
    }
   ],
   "source": [
    "burndata = data['area (acres)']\n",
    "print(np.median(burndata))"
   ]
  },
  {
   "cell_type": "code",
   "execution_count": 4,
   "id": "5fa9937d",
   "metadata": {},
   "outputs": [
    {
     "name": "stdout",
     "output_type": "stream",
     "text": [
      "226769.64705882352\n"
     ]
    }
   ],
   "source": [
    "print(np.mean(burndata))"
   ]
  },
  {
   "cell_type": "code",
   "execution_count": 9,
   "id": "5e400401",
   "metadata": {},
   "outputs": [
    {
     "name": "stdout",
     "output_type": "stream",
     "text": [
      "192588.04124480858\n"
     ]
    }
   ],
   "source": [
    "from scipy.stats import gmean\n",
    "print(gmean(burndata))"
   ]
  },
  {
   "cell_type": "code",
   "execution_count": 14,
   "id": "f4ec9779",
   "metadata": {},
   "outputs": [
    {
     "name": "stdout",
     "output_type": "stream",
     "text": [
      "1305592\n",
      "907245\n",
      "779292\n",
      "652016\n",
      "636224\n",
      "614974\n",
      "610000\n",
      "557628\n",
      "547505\n",
      "538049\n",
      "537098\n",
      "517078\n",
      "508751\n",
      "500068\n"
     ]
    }
   ],
   "source": [
    "for i in burndata:\n",
    "    if 500000<i:\n",
    "        print(i)\n",
    "        "
   ]
  },
  {
   "cell_type": "code",
   "execution_count": 17,
   "id": "b3e8a18c",
   "metadata": {},
   "outputs": [
    {
     "data": {
      "text/plain": [
       "3.25"
      ]
     },
     "execution_count": 17,
     "metadata": {},
     "output_type": "execute_result"
    }
   ],
   "source": [
    "numarray = [1,3,4,-1,2,1,8,8]\n",
    "np.mean(numarray)"
   ]
  },
  {
   "cell_type": "code",
   "execution_count": 18,
   "id": "f37b8125",
   "metadata": {},
   "outputs": [
    {
     "data": {
      "text/plain": [
       "2.5"
      ]
     },
     "execution_count": 18,
     "metadata": {},
     "output_type": "execute_result"
    }
   ],
   "source": [
    "np.median(numarray)"
   ]
  },
  {
   "cell_type": "code",
   "execution_count": 20,
   "id": "61a03ea4",
   "metadata": {},
   "outputs": [
    {
     "data": {
      "text/plain": [
       "ModeResult(mode=array([1]), count=array([2]))"
      ]
     },
     "execution_count": 20,
     "metadata": {},
     "output_type": "execute_result"
    }
   ],
   "source": [
    "from scipy import stats\n",
    "stats.mode(numarray)"
   ]
  },
  {
   "cell_type": "code",
   "execution_count": 24,
   "id": "7237995c",
   "metadata": {},
   "outputs": [
    {
     "data": {
      "text/plain": [
       "10.785714285714286"
      ]
     },
     "execution_count": 24,
     "metadata": {},
     "output_type": "execute_result"
    }
   ],
   "source": [
    "np.var(numarray,ddof=1)"
   ]
  },
  {
   "cell_type": "code",
   "execution_count": 25,
   "id": "98eb1863",
   "metadata": {},
   "outputs": [
    {
     "data": {
      "text/plain": [
       "9.4375"
      ]
     },
     "execution_count": 25,
     "metadata": {},
     "output_type": "execute_result"
    }
   ],
   "source": [
    "np.var(numarray)"
   ]
  },
  {
   "cell_type": "code",
   "execution_count": null,
   "id": "5ed8edda",
   "metadata": {},
   "outputs": [],
   "source": []
  }
 ],
 "metadata": {
  "kernelspec": {
   "display_name": "Python 3",
   "language": "python",
   "name": "python3"
  },
  "language_info": {
   "codemirror_mode": {
    "name": "ipython",
    "version": 3
   },
   "file_extension": ".py",
   "mimetype": "text/x-python",
   "name": "python",
   "nbconvert_exporter": "python",
   "pygments_lexer": "ipython3",
   "version": "3.8.8"
  }
 },
 "nbformat": 4,
 "nbformat_minor": 5
}
