{
 "cells": [
  {
   "cell_type": "code",
   "execution_count": 5,
   "id": "6696c248",
   "metadata": {},
   "outputs": [],
   "source": [
    "import numpy as np\n",
    "import math\n",
    "\n",
    "x_mean = 2.1\n",
    "x_error = 0.8\n",
    "y_mean = 1.1\n",
    "y_error = 0.2"
   ]
  },
  {
   "cell_type": "code",
   "execution_count": 9,
   "id": "7909c015",
   "metadata": {},
   "outputs": [
    {
     "name": "stdout",
     "output_type": "stream",
     "text": [
      "1.4132093666488739\n"
     ]
    }
   ],
   "source": [
    "def function(x,y):\n",
    "    \n",
    "    zlist = []\n",
    "    \n",
    "    z = math.sin(x) + y/2\n",
    "    \n",
    "    return z\n",
    "    \n",
    "\n",
    "z_mean = function(x_mean,y_mean)\n",
    "print(z_mean)"
   ]
  },
  {
   "cell_type": "code",
   "execution_count": 9,
   "id": "ac32d500",
   "metadata": {},
   "outputs": [
    {
     "data": {
      "text/plain": [
       "0.0"
      ]
     },
     "execution_count": 9,
     "metadata": {},
     "output_type": "execute_result"
    }
   ],
   "source": [
    "\n",
    "    "
   ]
  },
  {
   "cell_type": "code",
   "execution_count": null,
   "id": "424b3536",
   "metadata": {},
   "outputs": [],
   "source": []
  }
 ],
 "metadata": {
  "kernelspec": {
   "display_name": "Python 3 (ipykernel)",
   "language": "python",
   "name": "python3"
  },
  "language_info": {
   "codemirror_mode": {
    "name": "ipython",
    "version": 3
   },
   "file_extension": ".py",
   "mimetype": "text/x-python",
   "name": "python",
   "nbconvert_exporter": "python",
   "pygments_lexer": "ipython3",
   "version": "3.8.11"
  }
 },
 "nbformat": 4,
 "nbformat_minor": 5
}
