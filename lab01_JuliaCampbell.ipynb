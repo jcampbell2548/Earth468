{
 "cells": [
  {
   "cell_type": "markdown",
   "metadata": {},
   "source": [
    "# <font color='red'>Lab 01 - Benford's Law</font>\n",
    "\n",
    "### EARTH 468: Data Analysis & Model Estimation\n",
    "\n",
    "#### Lab developed by E.A. Hetland\n",
    "\n",
    "#### Due: Beginning of the lab period on the week of Sept. 21, 2021 (in two weeks).\n",
    "\n",
    "**For full credit:** \n",
    "Be sure to include your name with your notebook either as a markdown cell or in the file name. \n",
    "\n",
    "Write any necessary code in code cells below the description of each question. Write any discussion answers in markdown cells below the code cells, not as comments in your code. Be explicit about what you are answering and write in complete sentences. \n",
    "\n",
    "If you are asked to include a plot, make sure to label the axes and include a descriptive title.\n",
    "\n",
    "To turn in this assignment, in the Jupyter toolbar select File/Download as/html or pdf. Make sure that all of your outputs are clear. Upload the downloaded file to the proper assignment submission page on Canvas. Please do not turn in a .ipynb file.\n",
    "\n",
    "**Objective:** Explore Benford’s probability mass function (PMF). Specifically, we will test whether a given data set follows Benford’s law, expressed as a PMF of the frequency of leading digits in a table of numbers.\n",
    "\n",
    "**Python Objective:** Gain familiarity in working with basic programming constructs, such as lists, arrays, dataframes, and functions. Begin using the most important three packages in Python: **NumPy**, **Matplotlib**, and **Pandas**.\n",
    "\n",
    "**Data:** In this lab, we will consider the population of every country in 2000 (using the NASA, Socioeconomic Data and Applications Center population data). Note that the value given is ×1000 people, and is not an integer in this file as the population is estimated using demographic techniques.\n",
    "\n",
    "\n",
    "# <font color='orange'>Excercise - 40 pts</font>\n",
    "\n",
    "Benford’s law is described in the course reader, please see the relevant section (3:7:4)."
   ]
  },
  {
   "cell_type": "markdown",
   "metadata": {},
   "source": [
    "## <font color='red'>Library imports:</font>"
   ]
  },
  {
   "cell_type": "code",
   "execution_count": 2,
   "metadata": {},
   "outputs": [],
   "source": [
    "import numpy as np # numpy is the package that handles most complex mathematical operations\n",
    "import matplotlib.pyplot as plt # matplotlib is the package that handles basic data visualization\n",
    "\n",
    "# allows your plots to appear in your browser\n",
    "%matplotlib inline"
   ]
  },
  {
   "cell_type": "code",
   "execution_count": 3,
   "metadata": {},
   "outputs": [],
   "source": [
    "def my_function(parameter):\n",
    "    ouput = 1*parameter\n",
    "    return output"
   ]
  },
  {
   "cell_type": "code",
   "execution_count": 4,
   "metadata": {},
   "outputs": [
    {
     "name": "stdout",
     "output_type": "stream",
     "text": [
      "5.0\n"
     ]
    },
    {
     "data": {
      "text/plain": [
       "{'key': 'value'}"
      ]
     },
     "execution_count": 4,
     "metadata": {},
     "output_type": "execute_result"
    }
   ],
   "source": [
    "5 # int\n",
    "print(5.) # float\n",
    "type(5) # check data type\n",
    "\n",
    "\"string\" # string\n",
    "'string' # string\n",
    "\n",
    "['string1','string2',5.5] # list of multiple data types\n",
    "\n",
    "np.array([5.0]) # one-dimensional numpy array with one element\n",
    "np.array([[1.,2.],[3.,4.]]) # two-dimensional numpy array with two rows and two columns with four elements\n",
    "\n",
    "{'key':'value'} # dictionary"
   ]
  },
  {
   "cell_type": "markdown",
   "metadata": {},
   "source": [
    "## <font color='red'>a) 8 pts</font>\n",
    "\n",
    "Write a function that calculates Benford’s PMF, which is\n",
    "\n",
    "$P_{BL}(n)=Log_{10}\\left[1+\\frac{1}{n}\\right]$\n",
    "\n",
    "where $n$ is an integer from 1 to 9. Create a plot of $P_{BL}$ vs. $n$.\n",
    "\n",
    "***Include a full copy of the function and the plot in the write-up.***"
   ]
  },
  {
   "cell_type": "code",
   "execution_count": 5,
   "metadata": {},
   "outputs": [],
   "source": [
    "def Benfords_PMF(n):\n",
    "    PBL = np.log10(1 + (1/n)) \n",
    "    return PBL\n",
    "\n",
    "Benfords_PMF(3) # testing function; output is probability of the integer\n",
    "\n",
    "ns = np.array([1,2,3,4,5,6,7,8,9]) \n",
    "Pbls = Benfords_PMF(ns) # probability of each integer 1-9"
   ]
  },
  {
   "cell_type": "code",
   "execution_count": 6,
   "metadata": {},
   "outputs": [
    {
     "data": {
      "image/png": "[encoded data removed]",
      "text/plain": [
       "<Figure size 432x288 with 1 Axes>"
      ]
     },
     "metadata": {
      "needs_background": "light"
     },
     "output_type": "display_data"
    }
   ],
   "source": [
    "fig = plt.figure()\n",
    "ax = fig.add_subplot()\n",
    "ax.plot(ns,Pbls)\n",
    "ax.set_xlabel('Integers',size=20) # label x axis\n",
    "ax.set_ylabel('Probability',size=20) # label y axis\n",
    "ax.set_title(\"Benford's Law PMF\",size=25,color='green') # label title\n",
    "\n",
    "plt.show()"
   ]
  },
  {
   "cell_type": "markdown",
   "metadata": {},
   "source": [
    "## <font color='red'>b) 4 pts</font>\n",
    "\n",
    "Use the NumPy function sum to verify that the total probability of any leading integer is 1."
   ]
  },
  {
   "cell_type": "code",
   "execution_count": 7,
   "metadata": {},
   "outputs": [
    {
     "data": {
      "text/plain": [
       "0.9999999999999999"
      ]
     },
     "execution_count": 7,
     "metadata": {},
     "output_type": "execute_result"
    }
   ],
   "source": [
    "np.sum(Pbls)"
   ]
  },
  {
   "cell_type": "markdown",
   "metadata": {},
   "source": [
    "## <font color='red'>c) 8 pts</font>\n",
    "\n",
    "Write a function that takes an input number, and returns the leading digit of the absolute value of that number. Use the equation below:\n",
    "\n",
    "$n=FLOOR\\left(\\frac{\\mid x\\mid}{10^{FLOOR(\\log_{10}x)}}\\right)$\n",
    "\n",
    "where $\\mid x \\mid$ is the absolute value of $x$ and $FLOOR(x)$ is $x$ rounded down (i.e., $FLOOR(346.8) = 3$ and $FLOOR(1.234)=1)$. Test out the function with several numbers, ranging from 0.01 to 10,000.\n",
    "\n",
    "***Include a full copy of the function in the write-up.***"
   ]
  },
  {
   "cell_type": "code",
   "execution_count": 9,
   "metadata": {},
   "outputs": [
    {
     "data": {
      "text/plain": [
       "1.0"
      ]
     },
     "execution_count": 9,
     "metadata": {},
     "output_type": "execute_result"
    }
   ],
   "source": [
    "def leading_digit(x):\n",
    "    numerator = np.abs(x) # absolute value\n",
    "    denominator = 10**np.floor(np.log10(x)) # floor rounds down\n",
    "    outer = np.floor(numerator/denominator)\n",
    "    return outer\n",
    "\n",
    "leading_digit(579) # testing leading_digit\n",
    "leading_digit(0.01)\n",
    "leading_digit(10000)"
   ]
  },
  {
   "cell_type": "markdown",
   "metadata": {},
   "source": [
    "## <font color='red'>d) 10 pts</font>\n",
    "\n",
    "For this problem, we will read in the data file *CountryPopulation.csv*, which contains a dataframe of population data from various contries. A dataframe is an array of data (like the arrays we created in part *a*), but come with additional metadata -- such as column headings and row headings. **Microsoft Excel** is an example of software that handles dataframes... so an Excel spreadsheet is just a type of dataframe!\n",
    "\n",
    "In Python, it is a little bit more fiddly to read in a dataframe than **Matlab**, **Excel**, or other programs. However, Python allows a much greater depth of control when reading in data than other software, which can be particularly important in research pursuits where your data files may be in a non-standard or obscure format.\n",
    "\n",
    "For this class, we could use **NumPy** to handle dataframes, but that can get a little clunky. Instead, we will work with a package called **Pandas**, which is built on top of **NumPy**, so it is streamlined and easy to use.\n",
    "\n",
    "Open *CountryPopulation.csv* in the Jupyter server and take a look at it. *CountryPopulation.csv* contains lines of data that are seperated by commas and spaces, with headers at the top. \n",
    "\n",
    "To import this data into our Jupyter notebook as a variable, we need to use the **Pandas** function *read_table*, which takes several arguments. Let's look at more on this function *[here](https://pandas.pydata.org/pandas-docs/stable/generated/pandas.read_table.html)*. Looking at the documentation of *read_table*, you can see that this function takes many arguments. However, in the documentation, many of them are already assigned (the ones that have an \"=\" sign are already defined). The ones that are already assigned like this are called *keyword arguments*, and you only need to change them if you are unsatisfied with the defaults, and you can change them in any order when you call the function. The arguments that do not have \"=\" signs in them are called *positional arguments*, and must be defined **in the same order as they appear in the documentation**. *read_table* only has one positional argument, which is the filepath to the data we want to read in.\n",
    "\n",
    "Use the following code to read in the dataframe. The first argument here is the filepath (this only needs to be the file name if the file is stored in the same folder as this Jupyter notebook). The second tells *read_table* that the delimiter between separate data points. The third is a keyword argument that tells *read_table* to ignore spaces in between the values.\n",
    "\n",
    "```python\n",
    "import pandas as pd\n",
    "data = pd.read_table(\"CountryPopulation.csv\",sep=',',skipinitialspace=True)\n",
    "```\n",
    "\n",
    "Once you have read in the data, print it out with \n",
    "\n",
    "```python \n",
    "print(data)\n",
    "```\n",
    "\n",
    "You will see that there are two columns of data, under the headers 'country' and 'population' (in thousands). The numbers on the far left are called *indices* and refer to the positional placement of each line of data in the dataframe. In this lab, we only need the population data, so go ahead and save the population data to a numpy array via\n",
    "\n",
    "```python\n",
    "popdata = data['population']\n",
    "```\n",
    "\n",
    "Using what you know about how to use functions in python, answer the following questions:\n",
    "1. What is the smallest population amongst these data?\n",
    "2. What is the largest?\n",
    "3. What is the mean of these population data?\n",
    "4. What is the median?\n",
    "\n",
    "Use your function from part (c) to find the leading digit of each country’s population. Make a histogram (matplotlib command *[hist](https://matplotlib.org/stable/api/_as_gen/matplotlib.pyplot.hist.html)* of the leading digits."
   ]
  },
  {
   "cell_type": "code",
   "execution_count": 10,
   "metadata": {},
   "outputs": [
    {
     "name": "stdout",
     "output_type": "stream",
     "text": [
      "               country    population\n",
      "0          Afghanistan  2.185145e+07\n",
      "1              Albania  3.143047e+06\n",
      "2              Algeria  3.030252e+07\n",
      "3       American Samoa  6.762183e+04\n",
      "4              Andorra  8.195528e+04\n",
      "..                 ...           ...\n",
      "226  Wallis and Futuna  1.446100e+04\n",
      "227              Samoa  1.586319e+05\n",
      "228              Yemen  1.834833e+07\n",
      "229             Zambia  1.042103e+07\n",
      "230           Zimbabwe  1.260746e+07\n",
      "\n",
      "[231 rows x 2 columns]\n"
     ]
    }
   ],
   "source": [
    "import pandas as pd\n",
    "data = pd.read_table(\"CountryPopulation.csv\",sep=',',skipinitialspace=True)\n",
    "print(data)"
   ]
  },
  {
   "cell_type": "code",
   "execution_count": 11,
   "metadata": {},
   "outputs": [
    {
     "data": {
      "text/plain": [
       "4409269309.823"
      ]
     },
     "execution_count": 11,
     "metadata": {},
     "output_type": "execute_result"
    }
   ],
   "source": [
    "popdata = data['population'] * 1000\n",
    "np.min(popdata) # smallest population amongst these data\n",
    "np.max(popdata)  # largest population amongst these data\n",
    "np.mean(popdata) # mean population amongst these data\n",
    "np.median(popdata) # median population amongst these data "
   ]
  },
  {
   "cell_type": "markdown",
   "metadata": {},
   "source": [
    "The smallest population amongst these data is 7770.609 \n",
    "The largest population amongst these data is 1253670940268.538 \n",
    "The mean population amongst these data is 26217844138.58546 \n",
    "The median population amongst these data is 4409269309.823 "
   ]
  },
  {
   "cell_type": "code",
   "execution_count": 24,
   "metadata": {},
   "outputs": [
    {
     "data": {
      "image/png": "[encoded data removed]",
      "text/plain": [
       "<Figure size 432x288 with 1 Axes>"
      ]
     },
     "metadata": {
      "needs_background": "light"
     },
     "output_type": "display_data"
    }
   ],
   "source": [
    "digits = leading_digit(popdata) \n",
    "\n",
    "plt.hist(digits, bins=[1,2,3,4,5,6,7,8,9,10],\n",
    "         histtype='bar',\n",
    "         facecolor='blue',\n",
    "         edgecolor='black',\n",
    "         alpha=0.35)\n",
    "\n",
    "plt.xlabel('Leading Digit')\n",
    "plt.xticks([1,2,3,4,5,6,7,8,9,10])\n",
    "plt.ylabel('Probability')\n",
    "plt.title(\"Histogram of Country Population's Leading Digits\")\n",
    "\n",
    "plt.show()"
   ]
  },
  {
   "cell_type": "markdown",
   "metadata": {},
   "source": [
    "## <font color='red'>e) 10 pts</font>\n",
    "\n",
    "Use the **np.histogram** function (google for the documentation!) to compute the number of times each digit appears in the list from part\n",
    "(d). Divide these numbers by the total number of leading digits, thereby obtaining frequency. Plot these calculated\n",
    "frequencies on the same plot as the frequencies predicted by Benford’s PMF. Use legend to add plot legends. Follow the below example format:\n",
    "\n",
    "```python\n",
    "fig = plt.figure(figsize=[12,6])\n",
    "ax = fig.add_subplot(111) # The (111) here will be discussed in later labs; just include it for now.\n",
    "ax.plot(x,y,label='ye olde label 1')\n",
    "ax.plot(x,y2,label='ye olde label 2')\n",
    "plt.legend(loc=0) # loc=0 means that the legend will be placed where matplotlib detects the fewest lines.\n",
    "```\n",
    "\n",
    "What is the median leading digit? Is this what you would expect? Why or why not? Would you expect the same result if you did this same test over a random distribution of numbers between 1 and 10? Why or why not?"
   ]
  },
  {
   "cell_type": "code",
   "execution_count": 25,
   "metadata": {},
   "outputs": [],
   "source": [
    "counts,integers = np.histogram(digits,bins=[1,2,3,4,5,6,7,8,9,10])\n",
    "total = np.sum(counts)\n",
    "freq = counts/total"
   ]
  },
  {
   "cell_type": "code",
   "execution_count": 28,
   "metadata": {
    "scrolled": true
   },
   "outputs": [
    {
     "data": {
      "image/png": "[encoded data removed]",
      "text/plain": [
       "<Figure size 432x288 with 1 Axes>"
      ]
     },
     "metadata": {
      "needs_background": "light"
     },
     "output_type": "display_data"
    }
   ],
   "source": [
    "fig = plt.figure()\n",
    "ax = fig.add_subplot()\n",
    "\n",
    "ax.plot(ns,Pbls,label=\"Benford's Law\",color='pink')\n",
    "ax.plot(ns,freq,label='population data',color='green')\n",
    "\n",
    "ax.set_xlabel('Integers',size=20) # label x axis\n",
    "ax.set_ylabel('Frequency',size=20) # label y axis\n",
    "ax.set_title(\"Benford's Law PMF\",size=25,color='black') # label title\n",
    "\n",
    "plt.legend()\n",
    "plt.show()"
   ]
  },
  {
   "cell_type": "code",
   "execution_count": 31,
   "metadata": {},
   "outputs": [
    {
     "data": {
      "text/plain": [
       "3.0"
      ]
     },
     "execution_count": 31,
     "metadata": {},
     "output_type": "execute_result"
    }
   ],
   "source": [
    "np.median(digits) # median leading digit"
   ]
  },
  {
   "cell_type": "markdown",
   "metadata": {},
   "source": [
    "The median leading digit is 3. This is what you'd expect because, according to Benford's Law, a large set of naturally produced numbers will not have an even distribution of leading digits, in fact the earlier digits will have a much higher probability of being the leading digit than the later digits (see the plot). Due to this skew, we'd expect somewhere around 3 to be the actual median, instead of 5. I wouldn't expect the same result if I did this same test over a random distribution of 1 and 10 because then I would expect 5 to be the median, since it's a randomly distributed set of numbers 1-10."
   ]
  }
 ],
 "metadata": {
  "anaconda-cloud": {},
  "kernelspec": {
   "display_name": "Python 3 (ipykernel)",
   "language": "python",
   "name": "python3"
  },
  "language_info": {
   "codemirror_mode": {
    "name": "ipython",
    "version": 3
   },
   "file_extension": ".py",
   "mimetype": "text/x-python",
   "name": "python",
   "nbconvert_exporter": "python",
   "pygments_lexer": "ipython3",
   "version": "3.8.11"
  }
 },
 "nbformat": 4,
 "nbformat_minor": 1
}
