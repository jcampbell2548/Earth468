{
 "cells": [
  {
   "cell_type": "markdown",
   "metadata": {
    "id": "vdYkOpwgpOxo"
   },
   "source": [
    "# <font color='red'>Lab 03 - Bootstrapping Vermin</font>\n",
    "\n",
    "### EARTH 468: Data Analysis & Model Estimation\n",
    "\n",
    "#### Lab developed by E.A. Hetland\n",
    "\n",
    "#### Due by the beginning of the lab period on October 6, 2021 (two weeks).\n",
    "\n",
    "**For full credit:** \n",
    "Be sure to include your name with your notebook either as a markdown cell or in the file name. \n",
    "\n",
    "Write any necessary code in code cells below the description of each question. Write any discussion answers in markdown cells below the code cells, not as comments in your code. Be explicit about what you are answering and write in complete sentences. \n",
    "\n",
    "If you are asked to include a plot, make sure to label the axes and include a descriptive title.\n",
    "\n",
    "To turn in this assignment, in the Jupyter toolbar select File/Download as/html or pdf. Make sure that all of your outputs are clear. Upload the downloaded file to the proper assignment submission page on Canvas. Please do not turn in a .ipynb file.\n",
    "\n",
    "**Objective:** Learn to implement resampling methods to estimate uncertainty on correlation coefficient determined from a sample.\n",
    "\n",
    "**Python Objective:** Gain familiarity in working with **NumPy** array structures, and how to slice them using indices. Students will also learn more about how to produce multi-panel plots in **Matplotlib**.\n",
    "\n",
    "**Data:** This problem uses data on the percentage of households (both owner occupied and rented) in major\n",
    "US cities that in 2013 reported having a problem with cockroaches or rodents in the past 12 months and\n",
    "annual average temperatures during 2012–2013 in those cities. The cockroach and rodent reports are from\n",
    "the American Housing Survey (AHS), US Census (www.census.gov/programs-surveys/ahs/;\n",
    "accessed August 2016) and the average temperatures are calculated from the 2012–2013 temperature\n",
    "records of the closest station to the city center from the Global Historical Climatology Network-Monthly\n",
    "(GHCN-M) data from NOAA (Vose et al, 1992; Peterson & Vose, 1997; ftp.ncdc.noaa.gov/pub/-data/ghcn/v3/; accessed Aug 2016).\n"
   ]
  },
  {
   "cell_type": "markdown",
   "metadata": {},
   "source": [
    "# <font color='red'>Import Libraries:</font>"
   ]
  },
  {
   "cell_type": "code",
   "execution_count": 2,
   "metadata": {},
   "outputs": [],
   "source": [
    "import numpy as np\n",
    "import matplotlib.pyplot as plt\n",
    "import pandas as pd"
   ]
  },
  {
   "cell_type": "markdown",
   "metadata": {},
   "source": [
    "# <font color='orange'>Excercise - 40 pts</font>\n",
    "\n",
    "Data File: 2013_AmHousingSurvey_VerminReports.csv\n",
    "\n",
    "The data file also includes 2012–2013 summer annual temperature (from GHCN-M), location of the city\n",
    "center, and the current city population from the Wolfram Alpha Computational Knowledge Engine. We\n",
    "will only use the roach and rodent reports (in columns 9 and 10 of the data file) and 2012–2013 annual\n",
    "temperatures (in column 5) for this problem. The below histograms show the distribution of roach or\n",
    "rodent reports, and the maps depict the roach or rodent reports as colored disks, sized proportional to the\n",
    "percentage of households reporting the problem and colored according to 2012 annual temperatures:\n",
    "\n",
    "<img src=\"Lab03_data_viz.png\">\n",
    "\n",
    "In this lab you will be estimating uncertainties of correlation coefficients determined from data, using a\n",
    "bootstrapping technique. Bootstrapping is a type of re-sampling method, which are powerful methods to\n",
    "assess uncertainties on inferred information. They are discussed more in the course reader,\n",
    "and in preparation for this lab, please read over that section.\n",
    "In brief, re-sampling methods rely on the fact that a given data set represents a much larger population. In\n",
    "this case, we will only consider 25 US cities that are in the US Census Housing Report, and while these are\n",
    "among the most populous, there are many more cities in the US. Re-sampling methods then ask the question,\n",
    "“what would the inferred information be if we had collected different data?\" As we are limited to\n",
    "working only with the data we did collect, re-sampling creates fictitious data sets based on the available\n",
    "information. There are two main classes of re-sampling methods, ***jackknifing*** and ***bootstrapping***. The main focus of the lab will be on bootstrapping."
   ]
  },
  {
   "cell_type": "markdown",
   "metadata": {
    "id": "e7fv8LJSpOxt"
   },
   "source": [
    "## <font color='red'>a) 2 pts</font>\n",
    "\n",
    "Create a python list called *numbers* that contains 0, 1, 1, 2, 3, 5, 8, 13, 21, and 34, in that order.\n",
    "\n",
    "1. Print the fifth item in the list *numbers*.\n",
    "2. Print the first three items in the list *numbers*.\n",
    "3. Print the last three items in the list *numbers*."
   ]
  },
  {
   "cell_type": "code",
   "execution_count": 3,
   "metadata": {},
   "outputs": [
    {
     "name": "stdout",
     "output_type": "stream",
     "text": [
      "[0, 1, 1, 2, 3, 5, 8, 13, 21, 34]\n"
     ]
    },
    {
     "data": {
      "text/plain": [
       "[13, 21, 34]"
      ]
     },
     "execution_count": 3,
     "metadata": {},
     "output_type": "execute_result"
    }
   ],
   "source": [
    "numbers = [0, 1, 1, 2, 3, 5, 8, 13, 21, 34]\n",
    "print(numbers)\n",
    "numbers[4] # 4th index will get you the 5th item in the list aka 3 (1st item is 0 index)\n",
    "numbers[0:3] # indexing from 0th item to the 3rd item (not including 3rd item)\n",
    "numbers[-3:] # indexing in reverse with '-' sign"
   ]
  },
  {
   "cell_type": "markdown",
   "metadata": {
    "id": "YLXdU8WqpOxu"
   },
   "source": [
    "## <font color='red'>b) 2 pts</font>\n",
    "\n",
    "Create a python list of lists called *array*. Use the following syntax:\n",
    "\n",
    "```python\n",
    "array = [[1,2,3],[4,5,6],[7,8,9],[10,11,12]]\n",
    "```\n",
    "\n",
    "Convert *array* into an np.array with:\n",
    "\n",
    "```python\n",
    "array = np.array(array)\n",
    "```\n",
    "\n",
    "1. Print *array*.\n",
    "2. Print the shape of *array*.\n",
    "3. Print the first column of *array*.\n",
    "4. Print the last row of *array*.\n",
    "5. Use the correct indexing to print '9' from *array*."
   ]
  },
  {
   "cell_type": "code",
   "execution_count": 4,
   "metadata": {},
   "outputs": [
    {
     "name": "stdout",
     "output_type": "stream",
     "text": [
      "[[ 1  2  3]\n",
      " [ 4  5  6]\n",
      " [ 7  8  9]\n",
      " [10 11 12]]\n",
      "(4, 3)\n",
      "(4, 3)\n"
     ]
    }
   ],
   "source": [
    "array = [[1,2,3],[4,5,6],[7,8,9],[10,11,12]]\n",
    "array = np.array(array)\n",
    "print(array)\n",
    "print(array.shape) # returns the number of rows, number of columns\n",
    "print(np.shape(array)) # other option for above\n"
   ]
  },
  {
   "cell_type": "code",
   "execution_count": 5,
   "metadata": {},
   "outputs": [
    {
     "data": {
      "text/plain": [
       "9"
      ]
     },
     "execution_count": 5,
     "metadata": {},
     "output_type": "execute_result"
    }
   ],
   "source": [
    "array[0] # index for the first row\n",
    "array[:,0] # index for the first column\n",
    "array[-1] # index for the last row\n",
    "array[2,2] # index to grab the 9 aka third row and third column"
   ]
  },
  {
   "cell_type": "markdown",
   "metadata": {
    "id": "TP4T3ZjxpOxv"
   },
   "source": [
    "## <font color='red'>c) 6 pts</font>\n",
    "\n",
    "Read the data from *CityData_VerminLab.csv* using **Pandas**. Then, make a new **Pandas** dataframe with just the three pertinent columns of data (*i.e.* mean temperature (C), cockroach reports, and rodent reports). To do this, select a column of data like you would normally, but instead of selecting one column, select a list of multiple columns (see the example below).\n",
    "\n",
    "```python\n",
    "newdataframe = dataframe[['Column A','Column B','Column C']]\n",
    "```\n",
    "\n",
    "Print out your new dataframe to make sure it worked.\n",
    "\n",
    "In this assignment, we will be doing repetitive math, so we are better off converting the **Pandas** dataframe into a less memory-intensive data object. Convert your new dataframe into a **numpy** array, using *np.array* (look up the documentation to see how this works!). Print out the new array and examine it. What are the dimensions to the new array (use the *.shape* method)?"
   ]
  },
  {
   "cell_type": "code",
   "execution_count": 6,
   "metadata": {},
   "outputs": [
    {
     "name": "stdout",
     "output_type": "stream",
     "text": [
      "(25, 3)\n"
     ]
    },
    {
     "data": {
      "text/html": [
       "<div>\n",
       "<style scoped>\n",
       "    .dataframe tbody tr th:only-of-type {\n",
       "        vertical-align: middle;\n",
       "    }\n",
       "\n",
       "    .dataframe tbody tr th {\n",
       "        vertical-align: top;\n",
       "    }\n",
       "\n",
       "    .dataframe thead th {\n",
       "        text-align: right;\n",
       "    }\n",
       "</style>\n",
       "<table border=\"1\" class=\"dataframe\">\n",
       "  <thead>\n",
       "    <tr style=\"text-align: right;\">\n",
       "      <th></th>\n",
       "      <th>mean temperature (C)</th>\n",
       "      <th>cockroach reports</th>\n",
       "      <th>rodent reports</th>\n",
       "    </tr>\n",
       "  </thead>\n",
       "  <tbody>\n",
       "    <tr>\n",
       "      <th>0</th>\n",
       "      <td>21.566667</td>\n",
       "      <td>0.282407</td>\n",
       "      <td>0.073925</td>\n",
       "    </tr>\n",
       "    <tr>\n",
       "      <th>1</th>\n",
       "      <td>15.193750</td>\n",
       "      <td>0.060701</td>\n",
       "      <td>0.176996</td>\n",
       "    </tr>\n",
       "    <tr>\n",
       "      <th>2</th>\n",
       "      <td>11.737500</td>\n",
       "      <td>0.028965</td>\n",
       "      <td>0.173264</td>\n",
       "    </tr>\n",
       "    <tr>\n",
       "      <th>3</th>\n",
       "      <td>10.995833</td>\n",
       "      <td>0.039917</td>\n",
       "      <td>0.096415</td>\n",
       "    </tr>\n",
       "    <tr>\n",
       "      <th>4</th>\n",
       "      <td>10.995833</td>\n",
       "      <td>0.016779</td>\n",
       "      <td>0.083953</td>\n",
       "    </tr>\n",
       "    <tr>\n",
       "      <th>5</th>\n",
       "      <td>11.229167</td>\n",
       "      <td>0.026729</td>\n",
       "      <td>0.155217</td>\n",
       "    </tr>\n",
       "    <tr>\n",
       "      <th>6</th>\n",
       "      <td>21.558333</td>\n",
       "      <td>0.340132</td>\n",
       "      <td>0.072338</td>\n",
       "    </tr>\n",
       "    <tr>\n",
       "      <th>7</th>\n",
       "      <td>20.654167</td>\n",
       "      <td>0.225118</td>\n",
       "      <td>0.024295</td>\n",
       "    </tr>\n",
       "    <tr>\n",
       "      <th>8</th>\n",
       "      <td>21.391667</td>\n",
       "      <td>0.287632</td>\n",
       "      <td>0.019195</td>\n",
       "    </tr>\n",
       "    <tr>\n",
       "      <th>9</th>\n",
       "      <td>12.380000</td>\n",
       "      <td>0.063418</td>\n",
       "      <td>0.147332</td>\n",
       "    </tr>\n",
       "    <tr>\n",
       "      <th>10</th>\n",
       "      <td>25.329167</td>\n",
       "      <td>0.303871</td>\n",
       "      <td>0.043157</td>\n",
       "    </tr>\n",
       "    <tr>\n",
       "      <th>11</th>\n",
       "      <td>8.905417</td>\n",
       "      <td>0.015057</td>\n",
       "      <td>0.153568</td>\n",
       "    </tr>\n",
       "    <tr>\n",
       "      <th>12</th>\n",
       "      <td>14.899167</td>\n",
       "      <td>0.085999</td>\n",
       "      <td>0.113487</td>\n",
       "    </tr>\n",
       "    <tr>\n",
       "      <th>13</th>\n",
       "      <td>13.722500</td>\n",
       "      <td>0.186722</td>\n",
       "      <td>0.167023</td>\n",
       "    </tr>\n",
       "    <tr>\n",
       "      <th>14</th>\n",
       "      <td>13.722500</td>\n",
       "      <td>0.055325</td>\n",
       "      <td>0.106491</td>\n",
       "    </tr>\n",
       "    <tr>\n",
       "      <th>15</th>\n",
       "      <td>16.729167</td>\n",
       "      <td>0.113730</td>\n",
       "      <td>0.122746</td>\n",
       "    </tr>\n",
       "    <tr>\n",
       "      <th>16</th>\n",
       "      <td>23.137500</td>\n",
       "      <td>0.303123</td>\n",
       "      <td>0.032464</td>\n",
       "    </tr>\n",
       "    <tr>\n",
       "      <th>17</th>\n",
       "      <td>14.191667</td>\n",
       "      <td>0.083227</td>\n",
       "      <td>0.207204</td>\n",
       "    </tr>\n",
       "    <tr>\n",
       "      <th>18</th>\n",
       "      <td>15.650000</td>\n",
       "      <td>0.073641</td>\n",
       "      <td>0.098256</td>\n",
       "    </tr>\n",
       "    <tr>\n",
       "      <th>19</th>\n",
       "      <td>10.426250</td>\n",
       "      <td>0.017616</td>\n",
       "      <td>0.154440</td>\n",
       "    </tr>\n",
       "    <tr>\n",
       "      <th>20</th>\n",
       "      <td>19.576250</td>\n",
       "      <td>0.278549</td>\n",
       "      <td>0.089892</td>\n",
       "    </tr>\n",
       "    <tr>\n",
       "      <th>21</th>\n",
       "      <td>10.806250</td>\n",
       "      <td>0.010248</td>\n",
       "      <td>0.062577</td>\n",
       "    </tr>\n",
       "    <tr>\n",
       "      <th>22</th>\n",
       "      <td>23.679167</td>\n",
       "      <td>0.376048</td>\n",
       "      <td>0.033072</td>\n",
       "    </tr>\n",
       "    <tr>\n",
       "      <th>23</th>\n",
       "      <td>15.892917</td>\n",
       "      <td>0.190719</td>\n",
       "      <td>0.049088</td>\n",
       "    </tr>\n",
       "    <tr>\n",
       "      <th>24</th>\n",
       "      <td>16.068750</td>\n",
       "      <td>0.110312</td>\n",
       "      <td>0.163056</td>\n",
       "    </tr>\n",
       "  </tbody>\n",
       "</table>\n",
       "</div>"
      ],
      "text/plain": [
       "    mean temperature (C)  cockroach reports  rodent reports\n",
       "0              21.566667           0.282407        0.073925\n",
       "1              15.193750           0.060701        0.176996\n",
       "2              11.737500           0.028965        0.173264\n",
       "3              10.995833           0.039917        0.096415\n",
       "4              10.995833           0.016779        0.083953\n",
       "5              11.229167           0.026729        0.155217\n",
       "6              21.558333           0.340132        0.072338\n",
       "7              20.654167           0.225118        0.024295\n",
       "8              21.391667           0.287632        0.019195\n",
       "9              12.380000           0.063418        0.147332\n",
       "10             25.329167           0.303871        0.043157\n",
       "11              8.905417           0.015057        0.153568\n",
       "12             14.899167           0.085999        0.113487\n",
       "13             13.722500           0.186722        0.167023\n",
       "14             13.722500           0.055325        0.106491\n",
       "15             16.729167           0.113730        0.122746\n",
       "16             23.137500           0.303123        0.032464\n",
       "17             14.191667           0.083227        0.207204\n",
       "18             15.650000           0.073641        0.098256\n",
       "19             10.426250           0.017616        0.154440\n",
       "20             19.576250           0.278549        0.089892\n",
       "21             10.806250           0.010248        0.062577\n",
       "22             23.679167           0.376048        0.033072\n",
       "23             15.892917           0.190719        0.049088\n",
       "24             16.068750           0.110312        0.163056"
      ]
     },
     "execution_count": 6,
     "metadata": {},
     "output_type": "execute_result"
    }
   ],
   "source": [
    "dataframe = pd.read_csv('CityData_VerminLab.csv')\n",
    "dataframe\n",
    "newdataframe = dataframe[['mean temperature (C)','cockroach reports','rodent reports']]\n",
    "newdataframe\n",
    "vermin_data = np.array(newdataframe)\n",
    "vermin_data # mean temp, cockroach reports, rodent reports\n",
    "print(vermin_data.shape)\n",
    "newdataframe"
   ]
  },
  {
   "cell_type": "markdown",
   "metadata": {},
   "source": [
    "The dimensions to the new array are 25, 3 (so there are 25 rows and 3 columns)."
   ]
  },
  {
   "cell_type": "markdown",
   "metadata": {
    "id": "3FX5ppAEpOxv"
   },
   "source": [
    "## <font color='red'>d) 6 pts</font>\n",
    "\n",
    "Make two scatter plots on the same figure canvas, using data from the array you just created: \n",
    "\n",
    "1. Percent of households reporting cockroach problems against the mean annual temperature. \n",
    "2. Percent of households reporting rodent problems against the mean annual temperature.\n",
    "\n",
    "To produce a multi-panel plot, use the following syntax:\n",
    "\n",
    "```python\n",
    "fig = plt.figure(figsize=[8,16])\n",
    "ax1 = fig.add_subplot(211) # (211) means \"arranged in a 2 (vertical) by 1 (horizontal) fashion\" and the last\n",
    "                           # 1 is the plot identifier (in plots with several panels, this identifier starts\n",
    "                           # at 1 in the upper left, and increases going to the right, line by line, as if \n",
    "                           # you were reading).\n",
    "ax2 = fig.add_subplot(212)\n",
    "```\n",
    "\n",
    "What, if any, patterns do you see in these plots (specifically with reference to degree of correlations)?"
   ]
  },
  {
   "cell_type": "code",
   "execution_count": 22,
   "metadata": {},
   "outputs": [
    {
     "data": {
      "text/plain": [
       "Text(0.5, 1.0, '2013 American Housing Survey Vermin Reports')"
      ]
     },
     "execution_count": 22,
     "metadata": {},
     "output_type": "execute_result"
    },
    {
     "data": {
      "image/png": "[encoded data removed]",
      "text/plain": [
       "<Figure size 576x1152 with 2 Axes>"
      ]
     },
     "metadata": {
      "needs_background": "light"
     },
     "output_type": "display_data"
    }
   ],
   "source": [
    "fig = plt.figure(figsize=[8,16])\n",
    "ax1 = fig.add_subplot(211)\n",
    "ax1.scatter(vermin_data[:,0],vermin_data[:,1])\n",
    "ax1.set_xlabel('Mean Temperature (C)')\n",
    "ax1.set_ylabel('Percent Cockroach Reports')\n",
    "\n",
    "ax2 = fig.add_subplot(212)\n",
    "ax2.scatter(vermin_data[:,0],vermin_data[:,2])\n",
    "ax2.set_xlabel('Mean Temperature (C)')\n",
    "ax2.set_ylabel('Percent Rodent Reports')\n",
    "\n",
    "ax1.set_title('2013 American Housing Survey Vermin Reports')"
   ]
  },
  {
   "cell_type": "markdown",
   "metadata": {},
   "source": [
    "In the first plot for cockroaches, I see a pretty strong, positive linear trend. In the second plot for rodents, I see a pretty weak to moderate, negative linear trend. So, cockroaches maybe prefer the warmer weather, while rodents maybe prefer the colder weather."
   ]
  },
  {
   "cell_type": "markdown",
   "metadata": {
    "id": "b2u0ByAmpOxw"
   },
   "source": [
    "## <font color='red'>e) 6 pts</font>\n",
    "\n",
    "Calculate the correlation coefficients (*i.e.* $\\rho_{roach}$ and $\\rho_{rodent}$) of the temperature vs. roach or rodents data. In the *scipy.stats* package, correlation coefficient is calculated with the function *pearsonr*. Be sure to look up the documentation on the *pearsonr* function so that you know how many numbers it returns, and what they mean."
   ]
  },
  {
   "cell_type": "code",
   "execution_count": 27,
   "metadata": {},
   "outputs": [
    {
     "data": {
      "text/plain": [
       "-0.6628005645555644"
      ]
     },
     "execution_count": 27,
     "metadata": {},
     "output_type": "execute_result"
    }
   ],
   "source": [
    "from scipy.stats import pearsonr\n",
    "# ?pearsonr to see what pearsonr does\n",
    "corrcoeff_roach, z = pearsonr(vermin_data[:,0],vermin_data[:,1]) # outputs correlation coefficient, p value\n",
    "corrcoeff_roach # positive trend, more refined data so closer to 1 than the other\n",
    "corrcoeff_rodent, z = pearsonr(vermin_data[:,0],vermin_data[:,2])\n",
    "corrcoeff_rodent # negative trend, less refined data so closer to 0 than the other"
   ]
  },
  {
   "cell_type": "markdown",
   "metadata": {
    "id": "DCf_ZoAXpOxw"
   },
   "source": [
    "## <font color='red'>f) 6 pts</font>\n",
    "\n",
    "We want a larger sample size to further test our results. We can do this using ***bootstrap re-sampling.*** To do this, use python to write a function that:\n",
    "\n",
    "1. Loops *n* times, where *n* is the same number of data records (i.e., rows) from input array *obs*\n",
    "2. In each iteration, the function selects a random record from input array *obs* (note: this includes *all* of the observations in that record) and appends that random observation to a new list called *resampled*\n",
    "3. Returns an array version of *resampled*\n",
    "\n",
    "Use your new function to re-sample the array of pest and temperature data. The re-sampled data should be the same size as the initial sample. Print out the resampled data and make sure that it worked by comparing it to the original data."
   ]
  },
  {
   "cell_type": "code",
   "execution_count": 41,
   "metadata": {},
   "outputs": [
    {
     "data": {
      "text/plain": [
       "9"
      ]
     },
     "execution_count": 41,
     "metadata": {},
     "output_type": "execute_result"
    }
   ],
   "source": [
    "vermin_data[0]\n",
    "vermin_data.shape[0] # number of rows\n",
    "np.random.randint(0,vermin_data.shape[0])"
   ]
  },
  {
   "cell_type": "code",
   "execution_count": 42,
   "metadata": {},
   "outputs": [],
   "source": [
    "def bootstrap_resampling(obs):\n",
    "    \n",
    "    resampled = [] # empty list\n",
    "    n = obs.shape[0] # number of rows for the input array\n",
    "    \n",
    "    for i in np.arange(n): # iterates through n times\n",
    "        random_index = np.random.randint(0,obs.shape[0])\n",
    "        random_row = obs[random_index]\n",
    "        resampled.append(random_row)\n",
    "        \n",
    "    return np.array(resampled)\n",
    "        "
   ]
  },
  {
   "cell_type": "code",
   "execution_count": 44,
   "metadata": {},
   "outputs": [
    {
     "data": {
      "text/plain": [
       "array([[1.95762500e+01, 2.78549383e-01, 8.98919753e-02],\n",
       "       [1.48991667e+01, 8.59990355e-02, 1.13486578e-01],\n",
       "       [1.09958333e+01, 1.67789131e-02, 8.39526242e-02],\n",
       "       [2.15583333e+01, 3.40131946e-01, 7.23378554e-02],\n",
       "       [2.06541667e+01, 2.25117555e-01, 2.42946708e-02],\n",
       "       [1.51937500e+01, 6.07013064e-02, 1.76996366e-01],\n",
       "       [2.15583333e+01, 3.40131946e-01, 7.23378554e-02],\n",
       "       [1.04262500e+01, 1.76158301e-02, 1.54440154e-01],\n",
       "       [1.67291667e+01, 1.13729508e-01, 1.22745902e-01],\n",
       "       [2.31375000e+01, 3.03123463e-01, 3.24643384e-02],\n",
       "       [2.06541667e+01, 2.25117555e-01, 2.42946708e-02],\n",
       "       [2.13916667e+01, 2.87631693e-01, 1.91946890e-02],\n",
       "       [1.58929167e+01, 1.90718884e-01, 4.90879828e-02],\n",
       "       [1.48991667e+01, 8.59990355e-02, 1.13486578e-01],\n",
       "       [1.09958333e+01, 3.99172699e-02, 9.64150293e-02],\n",
       "       [1.41916667e+01, 8.32273490e-02, 2.07203541e-01],\n",
       "       [1.37225000e+01, 1.86721799e-01, 1.67022858e-01],\n",
       "       [1.12291667e+01, 2.67291911e-02, 1.55216882e-01],\n",
       "       [2.15666667e+01, 2.82407407e-01, 7.39247312e-02],\n",
       "       [1.56500000e+01, 7.36410256e-02, 9.82564103e-02],\n",
       "       [8.90541667e+00, 1.50572328e-02, 1.53568411e-01],\n",
       "       [1.09958333e+01, 3.99172699e-02, 9.64150293e-02],\n",
       "       [1.37225000e+01, 1.86721799e-01, 1.67022858e-01],\n",
       "       [1.58929167e+01, 1.90718884e-01, 4.90879828e-02],\n",
       "       [1.56500000e+01, 7.36410256e-02, 9.82564103e-02]])"
      ]
     },
     "execution_count": 44,
     "metadata": {},
     "output_type": "execute_result"
    }
   ],
   "source": [
    "bootstrap_resampling(vermin_data)"
   ]
  },
  {
   "cell_type": "markdown",
   "metadata": {
    "id": "DeVSp87rpOxx"
   },
   "source": [
    "## <font color='red'>g) 6 pts</font>\n",
    "\n",
    "Resample the pest and temperature dataset 10$^4$ times. Each time, calculate the correlation coefficient between the temperature and cockroach reports, and between the temperature and rodent reports. \n",
    "\n",
    "Plot all of the correlation coefficients from each category on its own histogram (you should have two histograms)."
   ]
  },
  {
   "cell_type": "code",
   "execution_count": 78,
   "metadata": {},
   "outputs": [],
   "source": [
    "cc_roaches = [] # empty lists need to be outside the for loop so the values save in the list each time\n",
    "cc_rodents = []\n",
    "\n",
    "for i in np.arange(10000):\n",
    "    resampled = bootstrap_resampling(vermin_data)\n",
    "    corrcoeff_roach, z = pearsonr(resampled[:,0],resampled[:,1]) \n",
    "    corrcoeff_rodent, z = pearsonr(resampled[:,0],resampled[:,2])\n",
    "    cc_roaches.append(corrcoeff_roach)\n",
    "    cc_rodents.append(corrcoeff_rodent)\n",
    "    \n",
    "cc_roaches_array = np.array(cc_roaches) # converting list to array\n",
    "cc_rodents_array = np.array(cc_rodents)"
   ]
  },
  {
   "cell_type": "code",
   "execution_count": 91,
   "metadata": {},
   "outputs": [
    {
     "data": {
      "image/png": "[encoded data removed]",
      "text/plain": [
       "<Figure size 288x288 with 1 Axes>"
      ]
     },
     "metadata": {
      "needs_background": "light"
     },
     "output_type": "display_data"
    }
   ],
   "source": [
    "fig = plt.figure(figsize=[4,4])\n",
    "ax = fig.add_subplot(111)\n",
    "ax.hist(cc_roaches_array,bins=50,color='red')\n",
    "ax.set_xlabel('Correlation Coefficients')\n",
    "ax.set_ylabel('Counts')\n",
    "ax.set_title('Roaches')\n",
    "plt.show() "
   ]
  },
  {
   "cell_type": "code",
   "execution_count": 88,
   "metadata": {},
   "outputs": [
    {
     "data": {
      "image/png": "[encoded data removed]",
      "text/plain": [
       "<Figure size 288x288 with 1 Axes>"
      ]
     },
     "metadata": {
      "needs_background": "light"
     },
     "output_type": "display_data"
    }
   ],
   "source": [
    "fig = plt.figure(figsize=[4,4])\n",
    "ax = fig.add_subplot(111)\n",
    "ax.hist(cc_rodents_array,bins=50,color='blue')\n",
    "ax.set_xlabel('Correlation Coefficients')\n",
    "ax.set_ylabel('Counts')\n",
    "ax.set_title('Rodents')\n",
    "plt.show()"
   ]
  },
  {
   "cell_type": "markdown",
   "metadata": {
    "id": "DYCv4Vi0pOxy"
   },
   "source": [
    "## <font color='red'>h) 6 pts</font>\n",
    "\n",
    "Determine the mean correlation coefficient from the bootstrap re-sampling, $\\rho_{roach}^{BS}$ and $\\rho_{rodent}^{BS}$. Use the standard deviation of the bootstrap correlation coefficients to estimate the uncertainties and the 95% confidence interval of $\\rho_{roach}^{BS}$ and $\\rho_{rodent}^{BS}$ *(Hint: use np.percentile)*.\n",
    "\n",
    "Finally, discuss what this statistical information tells us about the relationship between temperature and pest reports? Did the bootstrapping help? if so, how?"
   ]
  },
  {
   "cell_type": "code",
   "execution_count": 80,
   "metadata": {},
   "outputs": [
    {
     "data": {
      "text/plain": [
       "(0.9378529481172256, -0.6612396810426737)"
      ]
     },
     "execution_count": 80,
     "metadata": {},
     "output_type": "execute_result"
    }
   ],
   "source": [
    "np.mean(cc_roaches_array),np.mean(cc_rodents_array)"
   ]
  },
  {
   "cell_type": "code",
   "execution_count": 81,
   "metadata": {},
   "outputs": [
    {
     "data": {
      "text/plain": [
       "(0.02299731400245901, 0.10899893665679719)"
      ]
     },
     "execution_count": 81,
     "metadata": {},
     "output_type": "execute_result"
    }
   ],
   "source": [
    "np.std(cc_roaches_array),np.std(cc_rodents_array)"
   ]
  },
  {
   "cell_type": "code",
   "execution_count": 82,
   "metadata": {},
   "outputs": [
    {
     "data": {
      "text/plain": [
       "array([0.88265104, 0.97126861])"
      ]
     },
     "execution_count": 82,
     "metadata": {},
     "output_type": "execute_result"
    }
   ],
   "source": [
    "np.percentile(cc_roaches_array,[2.5,97.5]) # includes most of that data"
   ]
  },
  {
   "cell_type": "code",
   "execution_count": 83,
   "metadata": {},
   "outputs": [
    {
     "data": {
      "text/plain": [
       "array([-0.83747615, -0.41285262])"
      ]
     },
     "execution_count": 83,
     "metadata": {},
     "output_type": "execute_result"
    }
   ],
   "source": [
    "np.percentile(cc_rodents_array,[2.5,97.5])"
   ]
  },
  {
   "cell_type": "markdown",
   "metadata": {},
   "source": [
    "The mean of the correlation coefficients for roaches is about 0.938, which tells us there is a strong, positive trend between roach reports and temperature (so roaches likely prefer warmer weather as there are more roach reports in warm weather). The mean of the correlation coefficients for rodents is about -0.661, which tells us there is a moderate, negative trend between rodent reports and temperature (so rodents likely prefer colder weather as there are more rodent reports in cold weather). The standard deviation of the correlation coefficients for roaches and rodents is about 0.023 and 0.109, respectively. The rodent standard deviation is bigger, which tells us there was a larger extent of deviation from the mean (the dataset was more spread out) for rodents than roaches. The 95% confidence interval for roaches was about 0.883, 0.971. The 95% confidence interval for rodents was about -0.837, -0.423. So, there is a smaller range with the roach confidence interval. The roach dataset was more refined so we have more confidence in that mean and strong, positive trend. The bootstrapping did help as it allowed us to have a larger sample size so we could further test our results and our confidence in our results."
   ]
  }
 ],
 "metadata": {
  "anaconda-cloud": {},
  "colab": {
   "name": "lab03_bootstrapping_vermin.ipynb",
   "provenance": []
  },
  "kernelspec": {
   "display_name": "Python 3 (ipykernel)",
   "language": "python",
   "name": "python3"
  },
  "language_info": {
   "codemirror_mode": {
    "name": "ipython",
    "version": 3
   },
   "file_extension": ".py",
   "mimetype": "text/x-python",
   "name": "python",
   "nbconvert_exporter": "python",
   "pygments_lexer": "ipython3",
   "version": "3.8.11"
  }
 },
 "nbformat": 4,
 "nbformat_minor": 1
}
