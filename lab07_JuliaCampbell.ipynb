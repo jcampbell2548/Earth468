{
 "cells": [
  {
   "cell_type": "markdown",
   "metadata": {
    "id": "BSD7ij63bdto"
   },
   "source": [
    "# <font color='red'>Lab 07 - Glacier Bed Roughness</font>\n",
    "\n",
    "### EARTH 468: Data Analysis & Model Estimation\n",
    "\n",
    "##### Lab developed by E.A. Hetland\n",
    "\n",
    "#### Due by the beginning of the lab period for the week of November 10, 2021 (2 weeks).\n",
    "\n",
    "**For full credit:** \n",
    "\n",
    "Be sure to include your name with your notebook either as a markdown cell or in the file name. \n",
    "\n",
    "Write any necessary code in code cells below the description of each question. Write any discussion answers in markdown cells below the code cells, not as comments in your code. Be explicit about what you are answering and write in complete sentences. \n",
    "\n",
    "If you are asked to include a plot, make sure to label the axes and include a descriptive title.\n",
    "\n",
    "To turn in this assignment, in the Jupyter toolbar select File/Download as/html or pdf. Make sure that all of your outputs are clear. Upload the downloaded file to the proper assignment submission page on Canvas. Please do not turn in a .ipynb file.\n",
    "\n",
    "**Objective:** To gain insight into the construction of least squares problems and to determine model errors.\n",
    "\n",
    "**Python Objective:** Further practice implementing matrix calculations in Jupyter and plotting error\n",
    "bars.\n",
    "\n",
    "**Data:** The data is entirely made up, and available in the file Lab07Data.csv.\n",
    "\n",
    "# <font color='orange'>Excercise - 40 pts</font>\n",
    "\n",
    "There are, in general, many factors that control the speed of an ice stream (an ice stream is a relatively\n",
    "narrow and fast moving finger of ice off of an ice-sheet). When the bottom of the ice stream is well lubricated\n",
    "by basal melting of the ice, the ice stream speed is limited by the roughness of the base. This limiting\n",
    "roughness is due to irregular protrusions of the bedrock (i.e., barriers) in which the ice needs to flow\n",
    "around in order for the ice stream to advance. There are two main mechanisms with which ice can flow\n",
    "around a barrier on a rough bedrock surface: (1) plastic flow around the barriers, and (2) melting of ice on\n",
    "the upstream side of the barrier, and re-freezing of the melt water on the downstream, or lee side, of the\n",
    "barriers. Mechanism (1) dominates in the case where the characteristic dimensions of barriers is large,\n",
    "while mechanism (2) dominates at smaller barrier sizes. Mechanism (2) is referred to as regelation, and the\n",
    "melting and re-freezing of the ice results from the pressure differential across the barrier. In this problem,\n",
    "we will assume that ice stream flow is entirely limited by regelation (see *Principles of Glacier Mechanics,\n",
    "R. Hooke, 2005*, for full derivation). Regelation limited ice stream speed is given by:\n",
    "\n",
    "<font size=4>$s=\\phi H R,$ for $\\phi=\\frac{K_R C g}{L}$ and $R=\\left(lr^2\\right)^{-1}$ </font>\n",
    "\n",
    "where $K_R$ is thermal conductivity of rock, $C$ and $L$ are the Classius-Clayperon slope and latent heat of\n",
    "fusion of ice, respectively, $g$ is gravitational acceleration, $l$ is a characteristic dimension of barriers and $r$ is the roughness of the base ($r = l/$characteristic spacing of barriers), and $H$ is the thickness of the ice. $\\phi$ is a constant that depends only on thermal properties and gravity, and $R-1$ is some parameterization of the roughness of the base of the ice stream (the units of $R$ are 1/length). In this problem, we will assume that $R$ is unknown.\n",
    "\n",
    "Suppose that the speed of an ice stream was measured at several points along the ice stream, from the head\n",
    "of the ice stream at $x = 0$ to the outlet of the ice stream at $x > 0$. At each point in which speed was measured, the thickness of the ice was precisely measured using sounding. (For simplicity, in this problem we\n",
    "will assume that location and ice thickness are known precisely.)\n",
    "\n",
    "Let’s assume that $R$ varies quadratically along the ice stream ($R = R_o + a x^2$), and so ice speed along the ice stream is given by:\n",
    "\n",
    "<font size=4>$s_i=\\phi H_i (R_o + a x_i^2)$</font>\n",
    "\n",
    "where $R_o$ and $a$ are unknown. We will consider $\\phi$ to have units of km/yr, the units of $R$ are km$^{-1}$, the units of $a$ are km$^{-3}$ , $x$ is in units of km, and $H$ is in units of m. $s_i$ is ice sheet speed, in units of m/yr, in the direction of the movement of the ice stream, measured at location $i$. Based on thermal properties of ice and granite, $\\phi$ is given below. \n",
    "\n",
    "$\\phi=1.37\\times10^{-7}$ km/yr\n",
    "\n",
    "The data is shown below and is also in the file *Lab07Data.csv*. The uncertainty on the ice stream speed measurement is the same for all stations, given as σ below, and the data are uncorrelated.\n",
    "\n",
    "<img src='datalab07.png'>"
   ]
  },
  {
   "cell_type": "markdown",
   "metadata": {},
   "source": [
    "## <font color='red'>Import Libraries:</font>"
   ]
  },
  {
   "cell_type": "code",
   "execution_count": 8,
   "metadata": {},
   "outputs": [],
   "source": [
    "import numpy as np\n",
    "import matplotlib.pyplot as plt\n",
    "import pandas as pd"
   ]
  },
  {
   "cell_type": "markdown",
   "metadata": {
    "id": "jTuR3Vfabdto"
   },
   "source": [
    "## <font color='red'>a) 6 pts</font>\n",
    "\n",
    "Identify the data, data context, known parameters, and the model state in the above equation for $s_i$."
   ]
  },
  {
   "cell_type": "markdown",
   "metadata": {},
   "source": [
    "The data is $s_i$ (the ice speed), the data context is $x_i$ (location), and the known parameters are 𝜙 and $H_i$. Therefore, the model state in the above equation is $R_o$ and 𝑎 (unknown parameters that control the system)."
   ]
  },
  {
   "cell_type": "code",
   "execution_count": 9,
   "metadata": {},
   "outputs": [
    {
     "data": {
      "text/html": [
       "<div>\n",
       "<style scoped>\n",
       "    .dataframe tbody tr th:only-of-type {\n",
       "        vertical-align: middle;\n",
       "    }\n",
       "\n",
       "    .dataframe tbody tr th {\n",
       "        vertical-align: top;\n",
       "    }\n",
       "\n",
       "    .dataframe thead th {\n",
       "        text-align: right;\n",
       "    }\n",
       "</style>\n",
       "<table border=\"1\" class=\"dataframe\">\n",
       "  <thead>\n",
       "    <tr style=\"text-align: right;\">\n",
       "      <th></th>\n",
       "      <th>x (km)</th>\n",
       "      <th>h (m)</th>\n",
       "      <th>s (m/y)</th>\n",
       "      <th>σ (m/yr)</th>\n",
       "    </tr>\n",
       "  </thead>\n",
       "  <tbody>\n",
       "    <tr>\n",
       "      <th>0</th>\n",
       "      <td>0.0</td>\n",
       "      <td>93.1</td>\n",
       "      <td>76.4</td>\n",
       "      <td>2.2</td>\n",
       "    </tr>\n",
       "    <tr>\n",
       "      <th>1</th>\n",
       "      <td>8.6</td>\n",
       "      <td>91.4</td>\n",
       "      <td>75.1</td>\n",
       "      <td>2.2</td>\n",
       "    </tr>\n",
       "    <tr>\n",
       "      <th>2</th>\n",
       "      <td>14.8</td>\n",
       "      <td>107.1</td>\n",
       "      <td>85.7</td>\n",
       "      <td>2.2</td>\n",
       "    </tr>\n",
       "    <tr>\n",
       "      <th>3</th>\n",
       "      <td>25.7</td>\n",
       "      <td>99.1</td>\n",
       "      <td>79.9</td>\n",
       "      <td>2.2</td>\n",
       "    </tr>\n",
       "    <tr>\n",
       "      <th>4</th>\n",
       "      <td>35.1</td>\n",
       "      <td>115.2</td>\n",
       "      <td>97.7</td>\n",
       "      <td>2.2</td>\n",
       "    </tr>\n",
       "    <tr>\n",
       "      <th>5</th>\n",
       "      <td>40.2</td>\n",
       "      <td>116.8</td>\n",
       "      <td>100.9</td>\n",
       "      <td>2.2</td>\n",
       "    </tr>\n",
       "  </tbody>\n",
       "</table>\n",
       "</div>"
      ],
      "text/plain": [
       "   x (km)  h (m)  s (m/y)  σ (m/yr)\n",
       "0     0.0   93.1     76.4       2.2\n",
       "1     8.6   91.4     75.1       2.2\n",
       "2    14.8  107.1     85.7       2.2\n",
       "3    25.7   99.1     79.9       2.2\n",
       "4    35.1  115.2     97.7       2.2\n",
       "5    40.2  116.8    100.9       2.2"
      ]
     },
     "execution_count": 9,
     "metadata": {},
     "output_type": "execute_result"
    }
   ],
   "source": [
    "df = pd.read_csv('Lab07Data.csv')\n",
    "xs = np.array(df['x (km)'])\n",
    "hs = np.array(df['h (m)'])\n",
    "s = np.array(df['s (m/y)'])\n",
    "sigmas = np.array(df['σ (m/yr)'])\n",
    "phi = 1.37*10**(-7)\n",
    "\n",
    "df"
   ]
  },
  {
   "cell_type": "markdown",
   "metadata": {
    "id": "Swc4WxX5bdtt"
   },
   "source": [
    "## <font color='red'>b) 10 pts</font>\n",
    "\n",
    "Construct the $G$ matrix in the relationship $G \\vec{m} = \\vec{d}$. \n",
    "\n",
    "*Hint: write down what this should look like on paper first. You might want to review the construction of the G design matrix for a linear model system in lab06, or the example on slide 12 of lecture 10*."
   ]
  },
  {
   "cell_type": "markdown",
   "metadata": {},
   "source": [
    "$G_{(regelation)} = \\begin{pmatrix} \\Phi H_0 & \\Phi H_0 x_0^2 \\\\\n",
    "                     \\Phi H_1 & \\Phi H_1 x_1^2 \\\\\n",
    "                     \\vdots & \\vdots \\\\\n",
    "                     \\Phi H_5 & \\Phi H_5 x_5^2 \\end{pmatrix} $"
   ]
  },
  {
   "cell_type": "code",
   "execution_count": 12,
   "metadata": {},
   "outputs": [
    {
     "data": {
      "text/plain": [
       "array([[1.27547000e-05, 0.00000000e+00],\n",
       "       [1.25218000e-05, 9.26112328e-04],\n",
       "       [1.46727000e-05, 3.21390821e-03],\n",
       "       [1.35767000e-05, 8.96727458e-03],\n",
       "       [1.57824000e-05, 1.94440746e-02],\n",
       "       [1.60016000e-05, 2.58592257e-02]])"
      ]
     },
     "execution_count": 12,
     "metadata": {},
     "output_type": "execute_result"
    }
   ],
   "source": [
    "def glacier_G(context,thermal,thickness): # context: location (x_i) in km; thermal: phi in km/yr; thickness: H_i in m\n",
    "    \n",
    "    Gcol0 = thermal*thickness\n",
    "    Gcol1 = Gcol0*context**2\n",
    "    G = np.vstack((Gcol0,Gcol1)).T\n",
    "    \n",
    "    return G\n",
    "\n",
    "G = glacier_G(xs,phi,hs)\n",
    "G\n",
    "    "
   ]
  },
  {
   "cell_type": "markdown",
   "metadata": {
    "id": "GpVUq-pfbdtw"
   },
   "source": [
    "## <font color='red'>c) 8 pts</font>\n",
    "\n",
    "Solve for the model using least squares. Recall from lecture 10 (slides 18-21) that the least squares solution can be represented as:\n",
    "\n",
    "<font size=4>$\\vec{m_{est}}=\\left(G^T C_d^{-1} G\\right)^{-1} G^T C_d^{-1} \\vec{d}$</font>\n",
    "\n",
    "Report the best estimated model, and include the units."
   ]
  },
  {
   "cell_type": "code",
   "execution_count": 18,
   "metadata": {},
   "outputs": [
    {
     "data": {
      "text/plain": [
       "array([[2.2, 0. , 0. , 0. , 0. , 0. ],\n",
       "       [0. , 2.2, 0. , 0. , 0. , 0. ],\n",
       "       [0. , 0. , 2.2, 0. , 0. , 0. ],\n",
       "       [0. , 0. , 0. , 2.2, 0. , 0. ],\n",
       "       [0. , 0. , 0. , 0. , 2.2, 0. ],\n",
       "       [0. , 0. , 0. , 0. , 0. , 2.2]])"
      ]
     },
     "execution_count": 18,
     "metadata": {},
     "output_type": "execute_result"
    }
   ],
   "source": [
    "Cd = np.diag(sigmas)\n",
    "Cd"
   ]
  },
  {
   "cell_type": "code",
   "execution_count": 19,
   "metadata": {},
   "outputs": [
    {
     "data": {
      "text/plain": [
       "array([5.88034769e+06, 2.38236709e+02])"
      ]
     },
     "execution_count": 19,
     "metadata": {},
     "output_type": "execute_result"
    }
   ],
   "source": [
    "np.linalg.inv(G.T@np.linalg.inv(Cd)@G)@G.T@np.linalg.inv(Cd)@s"
   ]
  },
  {
   "cell_type": "code",
   "execution_count": 21,
   "metadata": {},
   "outputs": [],
   "source": [
    "m = np.linalg.inv(G.T@G)@G.T@s"
   ]
  },
  {
   "cell_type": "code",
   "execution_count": 22,
   "metadata": {},
   "outputs": [
    {
     "name": "stdout",
     "output_type": "stream",
     "text": [
      "The best fit model, m, is R0 = 5880347.688237378 km-1 and a = 238.23670890483345 km-3\n"
     ]
    }
   ],
   "source": [
    "print('The best fit model, m, is R0 = {} km-1 and a = {} km-3'.format(m[0],m[1]))"
   ]
  },
  {
   "cell_type": "markdown",
   "metadata": {
    "id": "_qMDU6BCbdtz"
   },
   "source": [
    "## <font color='red'>d) 6 pts</font>\n",
    "\n",
    "Compute the predictions of the best fit model found above, and plot these predictions along with the data with $x$ on the x-axis (also include the data error bars in the plot - recall plotting error bars from lab 2)."
   ]
  },
  {
   "cell_type": "code",
   "execution_count": 24,
   "metadata": {},
   "outputs": [
    {
     "data": {
      "text/plain": [
       "array([ 75.00207066,  73.85317164,  87.04624844,  81.97205044,\n",
       "        97.4382917 , 100.25558839])"
      ]
     },
     "execution_count": 24,
     "metadata": {},
     "output_type": "execute_result"
    }
   ],
   "source": [
    "predictions = G@m\n",
    "predictions"
   ]
  },
  {
   "cell_type": "code",
   "execution_count": 26,
   "metadata": {},
   "outputs": [
    {
     "data": {
      "image/png": "[encoded data removed]",
      "text/plain": [
       "<Figure size 432x288 with 1 Axes>"
      ]
     },
     "metadata": {
      "needs_background": "light"
     },
     "output_type": "display_data"
    }
   ],
   "source": [
    "fig = plt.figure()\n",
    "ax = fig.add_subplot()\n",
    "ax.errorbar(xs,s,yerr=sigmas,linestyle='None',marker='o',color='magenta',label='Observations')\n",
    "ax.scatter(xs,predictions,color='cyan',label='Predictions')\n",
    "ax.set_xlabel('Locations, x (m)',size=20)\n",
    "ax.set_ylabel('Glacier Speed, s (m/y)',size=20)\n",
    "ax.set_title('Glacier Velocity Least Squares Regression',size=25)\n",
    "plt.legend();"
   ]
  },
  {
   "cell_type": "markdown",
   "metadata": {
    "id": "dmGvZOKebdt3"
   },
   "source": [
    "## <font color='red'>e) 10 pts</font>\n",
    "\n",
    "Referring to the geometric interpretation of least squares in Lecture 10 (slide 16), we can see that the model covariance matrix is given by:\n",
    "\n",
    "<font size=4>$C_m^{-1}=G^T C_d^{-1} G$</font>\n",
    "\n",
    "For this problem, the model covariance matrix is either of the form\n",
    "\n",
    "$ C_m = \\begin{pmatrix} \\sigma_{R_0}^2 & \\sigma_{aR_0}^2 \\\\\n",
    "          \\sigma_{aR_0}^2 & \\sigma_{a}^2 \\end{pmatrix} $ or  $C_m = \\begin{pmatrix} \\sigma_{a}^2 & \\sigma_{aR_0}^2 \\\\\n",
    "          \\sigma_{aR_0}^2 & \\sigma_{R_0}^2 \\end{pmatrix} $\n",
    "          \n",
    "\n",
    "depending on how the design matrix was constructed.\n",
    "\n",
    "Solve for the model covariance matrix, $C_m$. \n",
    "\n",
    "<b>Report the best estimation of $R_o$ and $a$ from part c along with the uncertainties from $C_m$. </b>"
   ]
  },
  {
   "cell_type": "code",
   "execution_count": 27,
   "metadata": {},
   "outputs": [
    {
     "data": {
      "text/plain": [
       "array([[ 4.30658622e+09, -3.40920096e+06],\n",
       "       [-3.40920096e+06,  4.63139542e+03]])"
      ]
     },
     "execution_count": 27,
     "metadata": {},
     "output_type": "execute_result"
    }
   ],
   "source": [
    "Cm = np.linalg.inv(G.T@np.linalg.inv(Cd)@G)\n",
    "Cm"
   ]
  },
  {
   "cell_type": "code",
   "execution_count": 28,
   "metadata": {},
   "outputs": [
    {
     "name": "stdout",
     "output_type": "stream",
     "text": [
      "R0: 5880347.688237378 plus/minus 65624.58544870805 km-1\n"
     ]
    }
   ],
   "source": [
    "print('R0: {} plus/minus {} km-1'.format(m[0],np.sqrt(Cm[0,0])))"
   ]
  },
  {
   "cell_type": "code",
   "execution_count": 29,
   "metadata": {},
   "outputs": [
    {
     "name": "stdout",
     "output_type": "stream",
     "text": [
      "a: 238.23670890483345 plus/minus 68.05435639056977 km-3\n"
     ]
    }
   ],
   "source": [
    "print('a: {} plus/minus {} km-3'.format(m[1],np.sqrt(Cm[1,1])))"
   ]
  },
  {
   "cell_type": "code",
   "execution_count": null,
   "metadata": {},
   "outputs": [],
   "source": []
  }
 ],
 "metadata": {
  "anaconda-cloud": {},
  "colab": {
   "name": "Lab06 - Glacier Bed Roughness.ipynb",
   "provenance": []
  },
  "kernelspec": {
   "display_name": "Python 3 (ipykernel)",
   "language": "python",
   "name": "python3"
  },
  "language_info": {
   "codemirror_mode": {
    "name": "ipython",
    "version": 3
   },
   "file_extension": ".py",
   "mimetype": "text/x-python",
   "name": "python",
   "nbconvert_exporter": "python",
   "pygments_lexer": "ipython3",
   "version": "3.8.11"
  }
 },
 "nbformat": 4,
 "nbformat_minor": 1
}
