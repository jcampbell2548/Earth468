{
 "cells": [
  {
   "cell_type": "code",
   "execution_count": 1,
   "id": "e2801a91",
   "metadata": {},
   "outputs": [],
   "source": [
    "import numpy as np\n",
    "import matplotlib.pyplot as plt\n",
    "import pandas as pd"
   ]
  },
  {
   "cell_type": "code",
   "execution_count": 2,
   "id": "b50c93b4",
   "metadata": {},
   "outputs": [
    {
     "data": {
      "image/png": "[encoded data removed]",
      "text/plain": [
       "<Figure size 288x288 with 1 Axes>"
      ]
     },
     "metadata": {
      "needs_background": "light"
     },
     "output_type": "display_data"
    }
   ],
   "source": [
    "weights = [8.45, 6.43, 6.73, 6.02, 4.50, 2.39, 6.92, 3.29, 3.95, 13.22]\n",
    "fig = plt.figure(figsize=[4,4])\n",
    "ax = fig.add_subplot(111)\n",
    "ax.hist(weights,bins=[2,3,4,5,6,7,8,9,10,11,12,13,14],color='blue')\n",
    "ax.set_xlabel('Weights (kg)')\n",
    "ax.set_ylabel('Counts')\n",
    "ax.set_title('Indri Weights')\n",
    "plt.show() "
   ]
  },
  {
   "cell_type": "code",
   "execution_count": 3,
   "id": "dcb00caf",
   "metadata": {},
   "outputs": [
    {
     "data": {
      "text/plain": [
       "6.19"
      ]
     },
     "execution_count": 3,
     "metadata": {},
     "output_type": "execute_result"
    }
   ],
   "source": [
    "np.mean(weights)"
   ]
  },
  {
   "cell_type": "code",
   "execution_count": 4,
   "id": "0768eea7",
   "metadata": {},
   "outputs": [
    {
     "data": {
      "text/plain": [
       "3.0941378264209383"
      ]
     },
     "execution_count": 4,
     "metadata": {},
     "output_type": "execute_result"
    }
   ],
   "source": [
    "np.std(weights,ddof=1)"
   ]
  },
  {
   "cell_type": "code",
   "execution_count": 5,
   "id": "389efba7",
   "metadata": {},
   "outputs": [
    {
     "data": {
      "text/plain": [
       "0.9784522925972879"
      ]
     },
     "execution_count": 5,
     "metadata": {},
     "output_type": "execute_result"
    }
   ],
   "source": [
    "from scipy.stats import sem\n",
    "sem(weights)"
   ]
  },
  {
   "cell_type": "markdown",
   "id": "85b547c9",
   "metadata": {},
   "source": [
    "The average weight is 6.19 kg, the (unbiased) sample standard deviation is 3.09, and the standard error of the indri weights is 0.98."
   ]
  },
  {
   "cell_type": "markdown",
   "id": "ba93e5af",
   "metadata": {},
   "source": [
    "Explain what the sample standard deviation and the standard error represent?\n",
    "\n",
    "The sample standard deviation represents how far your data points are from the mean, while the standard error represents the uncertainty on the mean."
   ]
  },
  {
   "cell_type": "code",
   "execution_count": 6,
   "id": "63f7a7b2",
   "metadata": {},
   "outputs": [
    {
     "data": {
      "text/plain": [
       "(5.210919708578639, 7.169080291421362)"
      ]
     },
     "execution_count": 6,
     "metadata": {},
     "output_type": "execute_result"
    }
   ],
   "source": [
    "# 68.3% Interval\n",
    "import scipy.stats as st\n",
    "st.norm.interval(alpha=0.683, loc=np.mean(weights), scale=st.sem(weights))"
   ]
  },
  {
   "cell_type": "code",
   "execution_count": 7,
   "id": "2e694e2c",
   "metadata": {},
   "outputs": [
    {
     "data": {
      "text/plain": [
       "(4.237602841033001, 8.142397158967)"
      ]
     },
     "execution_count": 7,
     "metadata": {},
     "output_type": "execute_result"
    }
   ],
   "source": [
    "# 95.4% Interval\n",
    "import scipy.stats as st\n",
    "st.norm.interval(alpha=0.954, loc=np.mean(weights), scale=st.sem(weights))"
   ]
  },
  {
   "cell_type": "code",
   "execution_count": 8,
   "id": "18cf1988",
   "metadata": {},
   "outputs": [
    {
     "data": {
      "text/plain": [
       "(3.2862100231214137, 9.093789976878575)"
      ]
     },
     "execution_count": 8,
     "metadata": {},
     "output_type": "execute_result"
    }
   ],
   "source": [
    "# 99.7% Interval\n",
    "import scipy.stats as st\n",
    "st.norm.interval(alpha=0.997, loc=np.mean(weights), scale=st.sem(weights))"
   ]
  },
  {
   "cell_type": "markdown",
   "id": "a667fec4",
   "metadata": {},
   "source": [
    "The mean ± the sample standard deviation indicates the distribution of weights of individuals. What is the 68.3%, 95.4%, and 99.7% intervals (i.e., the intervals in which 68.3%, 95.4%, and 99.7% of individuals weighed in at).\n",
    "\n",
    "Those intervals, shown above, are the range of weights where that percent of Indri lemurs weighed in at. For instance, the 68.3% interval is the range of weights that 68.3% of lemurs weighed within that range.\n",
    "\n",
    "Do the weight intervals found in part (e) make sense? Explain why or why not, and if they do not, why is that?\n",
    "\n",
    "The weight intervals found in part (e) seem a bit off given the one weight at 13.22 kg. This weight might be an outlier and throwing the rest of the data off."
   ]
  },
  {
   "cell_type": "code",
   "execution_count": 11,
   "id": "1fc9d039",
   "metadata": {},
   "outputs": [
    {
     "name": "stdout",
     "output_type": "stream",
     "text": [
      "0.440443213296399\n"
     ]
    }
   ],
   "source": [
    "# Dixon's Q Test\n",
    "q = (13.22-8.45)/(13.22-2.39)\n",
    "print(q)"
   ]
  },
  {
   "cell_type": "markdown",
   "id": "7bb0c4b8",
   "metadata": {},
   "source": [
    "According to this Dixon's Q Test, the 13.22 kg weight is an outlier, with a confidence between 90% and 95% (so at least 90% confident this is an outlier)."
   ]
  },
  {
   "cell_type": "markdown",
   "id": "c6458ad9",
   "metadata": {},
   "source": [
    "Based on the new student's measurements, comment on how well you did in your trip to Madagascar. Specifically, how well did your measurements capture the average weight of the Indri lemurs (use you answer to part (d) here!). Also comment on whether these new observations increase or decrease your confidence that the 13.22 kg measurement is or is not an outlier.\n",
    "\n",
    "Wow, I did not do well on my trip to Madagascar (I was probably too busy enjoying Madagascar). My measurements did not do a great job of capturing the average weight of the Indri lemurs as my average weight was 6.19 kg and her average weight is 5.23 kg. These observations increase my confidence that the 13.22 kg measurement is an outlier since none of her measurements come close to that."
   ]
  },
  {
   "cell_type": "code",
   "execution_count": null,
   "id": "3f14b4c3",
   "metadata": {},
   "outputs": [],
   "source": []
  }
 ],
 "metadata": {
  "kernelspec": {
   "display_name": "Python 3 (ipykernel)",
   "language": "python",
   "name": "python3"
  },
  "language_info": {
   "codemirror_mode": {
    "name": "ipython",
    "version": 3
   },
   "file_extension": ".py",
   "mimetype": "text/x-python",
   "name": "python",
   "nbconvert_exporter": "python",
   "pygments_lexer": "ipython3",
   "version": "3.8.11"
  }
 },
 "nbformat": 4,
 "nbformat_minor": 5
}
